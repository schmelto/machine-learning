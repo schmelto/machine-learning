{
  "nbformat": 4,
  "nbformat_minor": 0,
  "metadata": {
    "colab": {
      "name": "Optimizer",
      "provenance": [],
      "collapsed_sections": [],
      "include_colab_link": true
    },
    "kernelspec": {
      "name": "python3",
      "display_name": "Python 3"
    },
    "accelerator": "GPU"
  },
  "cells": [
    {
      "cell_type": "markdown",
      "metadata": {
        "id": "view-in-github",
        "colab_type": "text"
      },
      "source": [
        "<a href=\"https://colab.research.google.com/github/schmelto/machine-learning/blob/main/Deeplearning/Optimizer.ipynb\" target=\"_parent\"><img src=\"https://colab.research.google.com/assets/colab-badge.svg\" alt=\"Open In Colab\"/></a>"
      ]
    },
    {
      "cell_type": "markdown",
      "metadata": {
        "id": "DXark2TSQIPA"
      },
      "source": [
        "# Optimizer\n"
      ]
    },
    {
      "cell_type": "code",
      "metadata": {
        "id": "anAbuY1-dzbZ",
        "colab": {
          "base_uri": "https://localhost:8080/"
        },
        "outputId": "5ad71bf5-4af9-47ba-cfda-704d3e7a2110"
      },
      "source": [
        "%tensorflow_version 2.x # Command for Google Colab for Tensorflow 2"
      ],
      "execution_count": 1,
      "outputs": [
        {
          "output_type": "stream",
          "text": [
            "`%tensorflow_version` only switches the major version: 1.x or 2.x.\n",
            "You set: `2.x # Command for Google Colab for Tensorflow 2`. This will be interpreted as: `2.x`.\n",
            "\n",
            "\n",
            "TensorFlow 2.x selected.\n"
          ],
          "name": "stdout"
        }
      ]
    },
    {
      "cell_type": "code",
      "metadata": {
        "id": "BYKdhdArMixR"
      },
      "source": [
        "# TensorFlow and tf.keras\n",
        "import tensorflow as tf\n",
        "from tensorflow import keras\n",
        "import numpy as np\n",
        "import matplotlib.pyplot as plt"
      ],
      "execution_count": 2,
      "outputs": []
    },
    {
      "cell_type": "markdown",
      "metadata": {
        "id": "Wcv5M4AjQijK"
      },
      "source": [
        "## Loading the MNIST data set"
      ]
    },
    {
      "cell_type": "code",
      "metadata": {
        "id": "HrkKkPW2OIfB",
        "colab": {
          "base_uri": "https://localhost:8080/"
        },
        "outputId": "de633b44-3a3f-46dd-b18c-c8d843d93dd0"
      },
      "source": [
        "(train_images, train_labels), (test_images, test_labels) = keras \\\n",
        "  .datasets.mnist.load_data()"
      ],
      "execution_count": 3,
      "outputs": [
        {
          "output_type": "stream",
          "text": [
            "Downloading data from https://storage.googleapis.com/tensorflow/tf-keras-datasets/mnist.npz\n",
            "11493376/11490434 [==============================] - 0s 0us/step\n"
          ],
          "name": "stdout"
        }
      ]
    },
    {
      "cell_type": "markdown",
      "metadata": {
        "id": "UWPPydtqQmC_"
      },
      "source": [
        "Here the MNIST data is normalized so that it is only saved as a float from 0 to 1"
      ]
    },
    {
      "cell_type": "code",
      "metadata": {
        "id": "6onrRWeHOV8b"
      },
      "source": [
        "train_images = train_images / 255.0\n",
        "test_images = test_images / 255.0"
      ],
      "execution_count": 4,
      "outputs": []
    },
    {
      "cell_type": "markdown",
      "metadata": {
        "id": "DOuJcGzURDjd"
      },
      "source": [
        "## Definition of the models\n",
        "\n",
        "The models can be generated using the `get_model()` function and consist of 2 dense layers with Relu and Sigmoid functions"
      ]
    },
    {
      "cell_type": "code",
      "metadata": {
        "id": "EEvwJtk7Oppm"
      },
      "source": [
        "def get_model():\n",
        "  return keras.Sequential([\n",
        "    keras.layers.Flatten(input_shape=(28, 28)),\n",
        "    keras.layers.Dense(128, activation='relu'),\n",
        "    keras.layers.Dense(10, activation='sigmoid')\n",
        "  ])\n",
        "\n",
        "model_sgd = get_model() # Model with Stochastic Gradient Descent Optimizer\n",
        "model_adam = get_model() # Model with Adam Optimizer\n",
        "model_rmsprop = get_model() # Model with RMSProp Optimizer"
      ],
      "execution_count": 5,
      "outputs": []
    },
    {
      "cell_type": "markdown",
      "metadata": {
        "id": "Sfpowh5pRFyA"
      },
      "source": [
        "## Compile the models\n",
        "\n",
        "For each of the models, Stochastic Gradient Descent is used as an optimizer and the loss function that fits the model\n",
        "\n",
        "This is set in the `model.compile()` function"
      ]
    },
    {
      "cell_type": "code",
      "metadata": {
        "id": "mjC8UAqUOyZ6"
      },
      "source": [
        "model_adam.compile(\n",
        "    optimizer='adam',\n",
        "    loss='mean_squared_error',\n",
        "    metrics=['accuracy']\n",
        ")\n",
        "model_rmsprop.compile(\n",
        "    optimizer='rmsprop',\n",
        "    loss='mean_squared_error',\n",
        "    metrics=['accuracy']\n",
        ")\n",
        "model_sgd.compile(\n",
        "    optimizer='sgd',\n",
        "    loss='mean_squared_error',\n",
        "    metrics=['accuracy']\n",
        ")\n",
        "\n",
        "models = [model_adam, model_rmsprop, model_sgd]"
      ],
      "execution_count": 6,
      "outputs": []
    },
    {
      "cell_type": "markdown",
      "metadata": {
        "id": "A9uENjXYRWLb"
      },
      "source": [
        "### Conversion of the labels into categorical labels"
      ]
    },
    {
      "cell_type": "code",
      "metadata": {
        "id": "SbkCCvu8Px1s"
      },
      "source": [
        "_train_labels = keras.utils.to_categorical(train_labels, 10)\n",
        "_test_labels = keras.utils.to_categorical(test_labels, 10)"
      ],
      "execution_count": 7,
      "outputs": []
    },
    {
      "cell_type": "markdown",
      "metadata": {
        "id": "F82P6BsVRgNb"
      },
      "source": [
        "## Training the models\n",
        "The training results are saved in the history list.\n",
        "All models are trained here and the training results are saved in the history list"
      ]
    },
    {
      "cell_type": "code",
      "metadata": {
        "id": "6QDK4o68O71J",
        "colab": {
          "base_uri": "https://localhost:8080/"
        },
        "outputId": "efd3b811-255a-46fc-930e-8b18e7499102"
      },
      "source": [
        "epochs=15\n",
        "history = [model.fit(train_images, _train_labels, epochs=epochs, validation_data=(test_images, _test_labels), verbose=True) for model in models]"
      ],
      "execution_count": 8,
      "outputs": [
        {
          "output_type": "stream",
          "text": [
            "Epoch 1/15\n",
            "1875/1875 [==============================] - 6s 2ms/step - loss: 0.0298 - accuracy: 0.8301 - val_loss: 0.0084 - val_accuracy: 0.9545\n",
            "Epoch 2/15\n",
            "1875/1875 [==============================] - 3s 2ms/step - loss: 0.0077 - accuracy: 0.9573 - val_loss: 0.0060 - val_accuracy: 0.9669\n",
            "Epoch 3/15\n",
            "1875/1875 [==============================] - 3s 2ms/step - loss: 0.0053 - accuracy: 0.9725 - val_loss: 0.0051 - val_accuracy: 0.9724\n",
            "Epoch 4/15\n",
            "1875/1875 [==============================] - 3s 2ms/step - loss: 0.0041 - accuracy: 0.9795 - val_loss: 0.0049 - val_accuracy: 0.9741\n",
            "Epoch 5/15\n",
            "1875/1875 [==============================] - 3s 2ms/step - loss: 0.0034 - accuracy: 0.9833 - val_loss: 0.0043 - val_accuracy: 0.9764\n",
            "Epoch 6/15\n",
            "1875/1875 [==============================] - 3s 2ms/step - loss: 0.0028 - accuracy: 0.9863 - val_loss: 0.0040 - val_accuracy: 0.9794\n",
            "Epoch 7/15\n",
            "1875/1875 [==============================] - 3s 2ms/step - loss: 0.0024 - accuracy: 0.9883 - val_loss: 0.0039 - val_accuracy: 0.9786\n",
            "Epoch 8/15\n",
            "1875/1875 [==============================] - 3s 2ms/step - loss: 0.0021 - accuracy: 0.9901 - val_loss: 0.0041 - val_accuracy: 0.9790\n",
            "Epoch 9/15\n",
            "1875/1875 [==============================] - 3s 2ms/step - loss: 0.0019 - accuracy: 0.9905 - val_loss: 0.0038 - val_accuracy: 0.9801\n",
            "Epoch 10/15\n",
            "1875/1875 [==============================] - 3s 2ms/step - loss: 0.0016 - accuracy: 0.9921 - val_loss: 0.0042 - val_accuracy: 0.9783\n",
            "Epoch 11/15\n",
            "1875/1875 [==============================] - 3s 2ms/step - loss: 0.0016 - accuracy: 0.9922 - val_loss: 0.0038 - val_accuracy: 0.9800\n",
            "Epoch 12/15\n",
            "1875/1875 [==============================] - 3s 2ms/step - loss: 0.0014 - accuracy: 0.9930 - val_loss: 0.0035 - val_accuracy: 0.9814\n",
            "Epoch 13/15\n",
            "1875/1875 [==============================] - 3s 2ms/step - loss: 0.0014 - accuracy: 0.9930 - val_loss: 0.0038 - val_accuracy: 0.9802\n",
            "Epoch 14/15\n",
            "1875/1875 [==============================] - 3s 2ms/step - loss: 0.0012 - accuracy: 0.9940 - val_loss: 0.0036 - val_accuracy: 0.9813\n",
            "Epoch 15/15\n",
            "1875/1875 [==============================] - 3s 2ms/step - loss: 0.0011 - accuracy: 0.9945 - val_loss: 0.0037 - val_accuracy: 0.9809\n",
            "Epoch 1/15\n",
            "1875/1875 [==============================] - 4s 2ms/step - loss: 0.0263 - accuracy: 0.8579 - val_loss: 0.0082 - val_accuracy: 0.9538\n",
            "Epoch 2/15\n",
            "1875/1875 [==============================] - 4s 2ms/step - loss: 0.0072 - accuracy: 0.9597 - val_loss: 0.0059 - val_accuracy: 0.9665\n",
            "Epoch 3/15\n",
            "1875/1875 [==============================] - 4s 2ms/step - loss: 0.0053 - accuracy: 0.9705 - val_loss: 0.0053 - val_accuracy: 0.9700\n",
            "Epoch 4/15\n",
            "1875/1875 [==============================] - 4s 2ms/step - loss: 0.0044 - accuracy: 0.9763 - val_loss: 0.0050 - val_accuracy: 0.9721\n",
            "Epoch 5/15\n",
            "1875/1875 [==============================] - 4s 2ms/step - loss: 0.0037 - accuracy: 0.9807 - val_loss: 0.0045 - val_accuracy: 0.9768\n",
            "Epoch 6/15\n",
            "1875/1875 [==============================] - 4s 2ms/step - loss: 0.0033 - accuracy: 0.9826 - val_loss: 0.0044 - val_accuracy: 0.9749\n",
            "Epoch 7/15\n",
            "1875/1875 [==============================] - 4s 2ms/step - loss: 0.0028 - accuracy: 0.9848 - val_loss: 0.0043 - val_accuracy: 0.9758\n",
            "Epoch 8/15\n",
            "1875/1875 [==============================] - 4s 2ms/step - loss: 0.0026 - accuracy: 0.9859 - val_loss: 0.0044 - val_accuracy: 0.9761\n",
            "Epoch 9/15\n",
            "1875/1875 [==============================] - 4s 2ms/step - loss: 0.0024 - accuracy: 0.9868 - val_loss: 0.0042 - val_accuracy: 0.9769\n",
            "Epoch 10/15\n",
            "1875/1875 [==============================] - 4s 2ms/step - loss: 0.0021 - accuracy: 0.9888 - val_loss: 0.0040 - val_accuracy: 0.9797\n",
            "Epoch 11/15\n",
            "1875/1875 [==============================] - 4s 2ms/step - loss: 0.0020 - accuracy: 0.9890 - val_loss: 0.0041 - val_accuracy: 0.9781\n",
            "Epoch 12/15\n",
            "1875/1875 [==============================] - 4s 2ms/step - loss: 0.0019 - accuracy: 0.9896 - val_loss: 0.0040 - val_accuracy: 0.9789\n",
            "Epoch 13/15\n",
            "1875/1875 [==============================] - 4s 2ms/step - loss: 0.0017 - accuracy: 0.9908 - val_loss: 0.0041 - val_accuracy: 0.9782\n",
            "Epoch 14/15\n",
            "1875/1875 [==============================] - 4s 2ms/step - loss: 0.0016 - accuracy: 0.9910 - val_loss: 0.0042 - val_accuracy: 0.9785\n",
            "Epoch 15/15\n",
            "1875/1875 [==============================] - 4s 2ms/step - loss: 0.0015 - accuracy: 0.9917 - val_loss: 0.0040 - val_accuracy: 0.9789\n",
            "Epoch 1/15\n",
            "1875/1875 [==============================] - 4s 2ms/step - loss: 0.1246 - accuracy: 0.1995 - val_loss: 0.0842 - val_accuracy: 0.4245\n",
            "Epoch 2/15\n",
            "1875/1875 [==============================] - 3s 2ms/step - loss: 0.0815 - accuracy: 0.4507 - val_loss: 0.0727 - val_accuracy: 0.5218\n",
            "Epoch 3/15\n",
            "1875/1875 [==============================] - 3s 2ms/step - loss: 0.0704 - accuracy: 0.5486 - val_loss: 0.0626 - val_accuracy: 0.6408\n",
            "Epoch 4/15\n",
            "1875/1875 [==============================] - 3s 2ms/step - loss: 0.0611 - accuracy: 0.6510 - val_loss: 0.0546 - val_accuracy: 0.7045\n",
            "Epoch 5/15\n",
            "1875/1875 [==============================] - 3s 2ms/step - loss: 0.0539 - accuracy: 0.7105 - val_loss: 0.0488 - val_accuracy: 0.7515\n",
            "Epoch 6/15\n",
            "1875/1875 [==============================] - 3s 2ms/step - loss: 0.0483 - accuracy: 0.7564 - val_loss: 0.0443 - val_accuracy: 0.7943\n",
            "Epoch 7/15\n",
            "1875/1875 [==============================] - 3s 2ms/step - loss: 0.0441 - accuracy: 0.7953 - val_loss: 0.0406 - val_accuracy: 0.8211\n",
            "Epoch 8/15\n",
            "1875/1875 [==============================] - 3s 2ms/step - loss: 0.0407 - accuracy: 0.8173 - val_loss: 0.0377 - val_accuracy: 0.8361\n",
            "Epoch 9/15\n",
            "1875/1875 [==============================] - 3s 2ms/step - loss: 0.0377 - accuracy: 0.8322 - val_loss: 0.0352 - val_accuracy: 0.8498\n",
            "Epoch 10/15\n",
            "1875/1875 [==============================] - 3s 2ms/step - loss: 0.0356 - accuracy: 0.8421 - val_loss: 0.0332 - val_accuracy: 0.8563\n",
            "Epoch 11/15\n",
            "1875/1875 [==============================] - 3s 2ms/step - loss: 0.0335 - accuracy: 0.8505 - val_loss: 0.0315 - val_accuracy: 0.8655\n",
            "Epoch 12/15\n",
            "1875/1875 [==============================] - 3s 2ms/step - loss: 0.0318 - accuracy: 0.8578 - val_loss: 0.0301 - val_accuracy: 0.8704\n",
            "Epoch 13/15\n",
            "1875/1875 [==============================] - 3s 2ms/step - loss: 0.0304 - accuracy: 0.8636 - val_loss: 0.0289 - val_accuracy: 0.8740\n",
            "Epoch 14/15\n",
            "1875/1875 [==============================] - 3s 2ms/step - loss: 0.0295 - accuracy: 0.8650 - val_loss: 0.0278 - val_accuracy: 0.8775\n",
            "Epoch 15/15\n",
            "1875/1875 [==============================] - 3s 2ms/step - loss: 0.0285 - accuracy: 0.8708 - val_loss: 0.0269 - val_accuracy: 0.8795\n"
          ],
          "name": "stdout"
        }
      ]
    },
    {
      "cell_type": "markdown",
      "metadata": {
        "id": "sdxnmCsMRkcK"
      },
      "source": [
        "## Plot the results with matplotlib\n",
        "\n",
        "The individual results of the models are integrated in different colors via `plt.plot`."
      ]
    },
    {
      "cell_type": "code",
      "metadata": {
        "id": "hocTWrYaWBQp",
        "colab": {
          "base_uri": "https://localhost:8080/",
          "height": 312
        },
        "outputId": "319153ca-6b71-41d9-e1b5-13751efcedea"
      },
      "source": [
        "def plot_learning_curve(ylim=0.6):\n",
        "    plt.figure()\n",
        "    plt.title(\"accuracy comparison\")\n",
        "    axes = plt.gca()\n",
        "    axes.set_ylim([ylim, 1])\n",
        "    plt.xlabel(\"Epoch\")\n",
        "    plt.ylabel(\"Accuracy\")\n",
        "    train_sizes = np.arange(1, 1 + len(history[0].history['accuracy']))\n",
        "\n",
        "    plt.grid()\n",
        "\n",
        "    plt.plot(\n",
        "        train_sizes,\n",
        "        history[0].history['accuracy'],\n",
        "        'o-',\n",
        "        color=(177/255, 6/255, 58/255),\n",
        "        label=\"Adam\"\n",
        "    )\n",
        "    plt.plot(\n",
        "        train_sizes,\n",
        "        history[1].history['accuracy'],\n",
        "        'o-',\n",
        "        color=(246/255, 168/255, 0),\n",
        "        label=\"RmsProp\"\n",
        "    )\n",
        "    \n",
        "    plt.plot(\n",
        "        train_sizes,\n",
        "        history[2].history['accuracy'],\n",
        "        'o-',\n",
        "        color='green',\n",
        "        label=\"Sgd\"\n",
        "    )\n",
        "\n",
        "    plt.legend(loc=\"best\")\n",
        "    return plt\n",
        "\n",
        "plot_learning_curve()\n"
      ],
      "execution_count": 9,
      "outputs": [
        {
          "output_type": "execute_result",
          "data": {
            "text/plain": [
              "<module 'matplotlib.pyplot' from '/usr/local/lib/python3.6/dist-packages/matplotlib/pyplot.py'>"
            ]
          },
          "metadata": {
            "tags": []
          },
          "execution_count": 9
        },
        {
          "output_type": "display_data",
          "data": {
            "image/png": "[encoded data removed]",
            "text/plain": [
              "<Figure size 432x288 with 1 Axes>"
            ]
          },
          "metadata": {
            "tags": [],
            "needs_background": "light"
          }
        }
      ]
    },
    {
      "cell_type": "markdown",
      "metadata": {
        "id": "xfHjZ05Ugt6U"
      },
      "source": [
        "## Evaluation\n",
        "\n",
        "- Stochastic Gradient Descent\n",
        "always leads to the optimal solution, even if the whole thing can be a little slower.\n",
        "\n",
        "- With strange data sets can\n",
        "the momentum is causing problems\n",
        "and with SGD you get the correct solution. The choice of optimizer remains problem-dependent"
      ]
    }
  ]
}