{
  "nbformat": 4,
  "nbformat_minor": 0,
  "metadata": {
    "kernelspec": {
      "display_name": "Python [conda env:MOOC] *",
      "language": "python",
      "name": "conda-env-MOOC-py"
    },
    "language_info": {
      "codemirror_mode": {
        "name": "ipython",
        "version": 3
      },
      "file_extension": ".py",
      "mimetype": "text/x-python",
      "name": "python",
      "nbconvert_exporter": "python",
      "pygments_lexer": "ipython3",
      "version": "3.6.9"
    },
    "colab": {
      "name": "Hyperparameters",
      "provenance": [],
      "include_colab_link": true
    },
    "accelerator": "GPU"
  },
  "cells": [
    {
      "cell_type": "markdown",
      "metadata": {
        "id": "view-in-github",
        "colab_type": "text"
      },
      "source": [
        "<a href=\"https://colab.research.google.com/github/schmelto/machine-learning/blob/main/Deeplearning/Hyperparameters.ipynb\" target=\"_parent\"><img src=\"https://colab.research.google.com/assets/colab-badge.svg\" alt=\"Open In Colab\"/></a>"
      ]
    },
    {
      "cell_type": "markdown",
      "metadata": {
        "id": "2g1GYdJJcXRW"
      },
      "source": [
        "# Hyperparameters\n",
        "\n",
        "The MNIST data set is used again here to show the influence of the learning rate on the performance of the network"
      ]
    },
    {
      "cell_type": "markdown",
      "metadata": {
        "id": "Jk0B4F8hi_ec"
      },
      "source": [
        "## Import the required libraries and classes"
      ]
    },
    {
      "cell_type": "code",
      "metadata": {
        "id": "p59tJXBdZ2JA"
      },
      "source": [
        "# magic command for Colab Notebooks\n",
        "%tensorflow_version 2.x\n",
        "\n",
        "import tensorflow as tf\n",
        "import numpy as np\n",
        "from tensorflow.keras.datasets import mnist\n",
        "from tensorflow.keras.layers import Dense, Activation, Input, Dropout, Conv2D, MaxPooling2D, Flatten\n",
        "from tensorflow.keras.models import Model\n",
        "\n",
        "import matplotlib.pyplot as plt\n",
        "\n",
        "# jupyters magic command\n",
        "%matplotlib inline"
      ],
      "execution_count": 2,
      "outputs": []
    },
    {
      "cell_type": "markdown",
      "metadata": {
        "id": "IceuuPUGjL8l"
      },
      "source": [
        "## Loading the MNIST data set"
      ]
    },
    {
      "cell_type": "code",
      "metadata": {
        "id": "ZZtlT-YjZ2JL",
        "colab": {
          "base_uri": "https://localhost:8080/"
        },
        "outputId": "932b12cb-54ac-4b1e-be6e-ce4f867e7206"
      },
      "source": [
        "(x_train, y_train), (x_test, y_test) = mnist.load_data()\n",
        "print(len(x_train), ' train images found')\n",
        "print(len(x_test), ' test images found')"
      ],
      "execution_count": 3,
      "outputs": [
        {
          "output_type": "stream",
          "text": [
            "Downloading data from https://storage.googleapis.com/tensorflow/tf-keras-datasets/mnist.npz\n",
            "11493376/11490434 [==============================] - 0s 0us/step\n",
            "60000  train images found\n",
            "10000  test images found\n"
          ],
          "name": "stdout"
        }
      ]
    },
    {
      "cell_type": "markdown",
      "metadata": {
        "id": "SXjzOIxnjTUm"
      },
      "source": [
        "## Adaptation of the MNIST data set\n",
        "\n",
        "Here only 1/7 of the training data is used for training"
      ]
    },
    {
      "cell_type": "code",
      "metadata": {
        "id": "A9fbLAyYZ2JS",
        "colab": {
          "base_uri": "https://localhost:8080/"
        },
        "outputId": "bbe8a277-be9f-453b-a0cb-164503b5b725"
      },
      "source": [
        "NUM_PICTURES = len(x_train)//7\n",
        "NUM_TEST_PICTURES = len(y_train)\n",
        "x_train = x_train / 255.0\n",
        "x_test = x_test / 255.0\n",
        "x_train = x_train[:NUM_PICTURES]\n",
        "y_train = y_train[:NUM_PICTURES]\n",
        "x_test = x_test[:NUM_TEST_PICTURES]\n",
        "y_test = y_test[:NUM_TEST_PICTURES]\n",
        "print(len(x_train), ' train images used')\n",
        "print(len(x_test), ' test images used')"
      ],
      "execution_count": 4,
      "outputs": [
        {
          "output_type": "stream",
          "text": [
            "8571  train images used\n",
            "10000  test images used\n"
          ],
          "name": "stdout"
        }
      ]
    },
    {
      "cell_type": "markdown",
      "metadata": {
        "id": "IjigJ1tXjnDg"
      },
      "source": [
        "Since Keras 4D expects tensors for processing, the data is reshaped here."
      ]
    },
    {
      "cell_type": "code",
      "metadata": {
        "id": "hK5CRoCNZ2JZ",
        "colab": {
          "base_uri": "https://localhost:8080/"
        },
        "outputId": "dc81aeee-5dbd-4a97-e974-bd70d7ad1432"
      },
      "source": [
        "x_train = np.reshape(x_train, [len(x_train), 28, 28, 1])\n",
        "x_test = np.reshape(x_test, [len(x_test), 28, 28, 1])\n",
        "print('shape: ', x_train.shape)"
      ],
      "execution_count": 5,
      "outputs": [
        {
          "output_type": "stream",
          "text": [
            "shape:  (8571, 28, 28, 1)\n"
          ],
          "name": "stdout"
        }
      ]
    },
    {
      "cell_type": "markdown",
      "metadata": {
        "id": "m3A6I__mju_k"
      },
      "source": [
        "To work with the Categorical Crossentropy function, the labels are converted into `categorical` labels"
      ]
    },
    {
      "cell_type": "code",
      "metadata": {
        "id": "wvIXwceuZ2Je"
      },
      "source": [
        "# convert class vectors to one-hot-encodings\n",
        "y_train = tf.keras.utils.to_categorical(y_train, 10)\n",
        "y_test = tf.keras.utils.to_categorical(y_test, 10)"
      ],
      "execution_count": 6,
      "outputs": []
    },
    {
      "cell_type": "markdown",
      "metadata": {
        "id": "qP3DAa5Le8TA"
      },
      "source": [
        "## Helpers"
      ]
    },
    {
      "cell_type": "code",
      "metadata": {
        "id": "XexAzx-ke_Ul"
      },
      "source": [
        "import matplotlib.pyplot as plt\n",
        "import numpy as np\n",
        "\n",
        "def plot_history(title: str, history: \"History\", ylim: float = 0.6) -> None:\n",
        "    y = history.history[\"accuracy\"]\n",
        "    y_test = history.history[\"val_accuracy\"]\n",
        "    plot_learning_curve(title, np.arange(1, 1 + len(y)), y, y_test, ylim)"
      ],
      "execution_count": 16,
      "outputs": []
    },
    {
      "cell_type": "markdown",
      "metadata": {
        "id": "Ut2qpiF3chiw"
      },
      "source": [
        "## Hier wird das Model definiert"
      ]
    },
    {
      "cell_type": "code",
      "metadata": {
        "id": "Hp3fOOKrZ2Jj"
      },
      "source": [
        "def get_untrained_model():\n",
        "    # input images must have size 28x28px\n",
        "    input_layer = Input(shape=(28, 28, 1))\n",
        "\n",
        "    # Convolutional neural network\n",
        "    model = Conv2D(filters=16, kernel_size=(3, 3), activation='relu')(input_layer)\n",
        "    model = MaxPooling2D((2, 2))(model)\n",
        "    model = Conv2D(filters=32, kernel_size=(3, 3), activation='relu')(model)\n",
        "    model = MaxPooling2D((2, 2))(model)\n",
        "\n",
        "    # Fully-Connected-Classifier\n",
        "    model = Flatten()(model)\n",
        "    model = Dense(100, activation='relu')(model)\n",
        "\n",
        "    # Output Layer\n",
        "    output_layer = Dense(10, activation='sigmoid')(model)\n",
        "    \n",
        "    return Model(input_layer, output_layer)"
      ],
      "execution_count": 8,
      "outputs": []
    },
    {
      "cell_type": "code",
      "metadata": {
        "id": "VfRvYi-mZ2Jo",
        "colab": {
          "base_uri": "https://localhost:8080/"
        },
        "outputId": "f8a038cc-f7f3-40e6-f5f0-decba9563e06"
      },
      "source": [
        "mnist_model = get_untrained_model()\n",
        "\n",
        "mnist_model.compile(optimizer = tf.keras.optimizers.Adam(), loss = 'categorical_crossentropy', metrics = ['accuracy'])\n",
        "mnist_model.summary()"
      ],
      "execution_count": 9,
      "outputs": [
        {
          "output_type": "stream",
          "text": [
            "Model: \"model\"\n",
            "_________________________________________________________________\n",
            "Layer (type)                 Output Shape              Param #   \n",
            "=================================================================\n",
            "input_1 (InputLayer)         [(None, 28, 28, 1)]       0         \n",
            "_________________________________________________________________\n",
            "conv2d (Conv2D)              (None, 26, 26, 16)        160       \n",
            "_________________________________________________________________\n",
            "max_pooling2d (MaxPooling2D) (None, 13, 13, 16)        0         \n",
            "_________________________________________________________________\n",
            "conv2d_1 (Conv2D)            (None, 11, 11, 32)        4640      \n",
            "_________________________________________________________________\n",
            "max_pooling2d_1 (MaxPooling2 (None, 5, 5, 32)          0         \n",
            "_________________________________________________________________\n",
            "flatten (Flatten)            (None, 800)               0         \n",
            "_________________________________________________________________\n",
            "dense (Dense)                (None, 100)               80100     \n",
            "_________________________________________________________________\n",
            "dense_1 (Dense)              (None, 10)                1010      \n",
            "=================================================================\n",
            "Total params: 85,910\n",
            "Trainable params: 85,910\n",
            "Non-trainable params: 0\n",
            "_________________________________________________________________\n"
          ],
          "name": "stdout"
        }
      ]
    },
    {
      "cell_type": "markdown",
      "metadata": {
        "id": "fJzFIPNbkoLe"
      },
      "source": [
        "## Here the models are trained at different learning rates\n",
        "\n",
        "The following learning rates were used\n",
        "- learning_rate = 0.001\n",
        "- learning_rate = 0.00001\n",
        "- learning_rate = 10"
      ]
    },
    {
      "cell_type": "code",
      "metadata": {
        "id": "YuSiwt4G9wGW",
        "colab": {
          "base_uri": "https://localhost:8080/"
        },
        "outputId": "c9f5f2ae-b522-4eca-c32b-ca7714caab8d"
      },
      "source": [
        "# compile model\n",
        "model = get_untrained_model()\n",
        "model.compile(\n",
        "    optimizer = tf.keras.optimizers.Adam(lr=0.001),\n",
        "    loss='categorical_crossentropy',\n",
        "    metrics=['accuracy']\n",
        ")\n",
        "\n",
        "# train model\n",
        "history = model.fit(\n",
        "    x_train,\n",
        "    y_train,\n",
        "    batch_size=32,\n",
        "    epochs=10,\n",
        "    validation_data=(x_test, y_test)\n",
        ")\n"
      ],
      "execution_count": 10,
      "outputs": [
        {
          "output_type": "stream",
          "text": [
            "Epoch 1/10\n",
            "268/268 [==============================] - 9s 7ms/step - loss: 1.0117 - accuracy: 0.6832 - val_loss: 0.1984 - val_accuracy: 0.9396\n",
            "Epoch 2/10\n",
            "268/268 [==============================] - 1s 5ms/step - loss: 0.1758 - accuracy: 0.9503 - val_loss: 0.1420 - val_accuracy: 0.9567\n",
            "Epoch 3/10\n",
            "268/268 [==============================] - 1s 5ms/step - loss: 0.1131 - accuracy: 0.9663 - val_loss: 0.0972 - val_accuracy: 0.9703\n",
            "Epoch 4/10\n",
            "268/268 [==============================] - 1s 5ms/step - loss: 0.0774 - accuracy: 0.9773 - val_loss: 0.0971 - val_accuracy: 0.9682\n",
            "Epoch 5/10\n",
            "268/268 [==============================] - 1s 5ms/step - loss: 0.0577 - accuracy: 0.9848 - val_loss: 0.0852 - val_accuracy: 0.9734\n",
            "Epoch 6/10\n",
            "268/268 [==============================] - 1s 5ms/step - loss: 0.0382 - accuracy: 0.9872 - val_loss: 0.0840 - val_accuracy: 0.9742\n",
            "Epoch 7/10\n",
            "268/268 [==============================] - 1s 5ms/step - loss: 0.0291 - accuracy: 0.9928 - val_loss: 0.0707 - val_accuracy: 0.9783\n",
            "Epoch 8/10\n",
            "268/268 [==============================] - 1s 5ms/step - loss: 0.0201 - accuracy: 0.9948 - val_loss: 0.0863 - val_accuracy: 0.9739\n",
            "Epoch 9/10\n",
            "268/268 [==============================] - 1s 5ms/step - loss: 0.0166 - accuracy: 0.9949 - val_loss: 0.0886 - val_accuracy: 0.9745\n",
            "Epoch 10/10\n",
            "268/268 [==============================] - 1s 5ms/step - loss: 0.0170 - accuracy: 0.9955 - val_loss: 0.0768 - val_accuracy: 0.9769\n"
          ],
          "name": "stdout"
        }
      ]
    },
    {
      "cell_type": "code",
      "metadata": {
        "id": "hxs6k4dOZ2J3",
        "colab": {
          "base_uri": "https://localhost:8080/"
        },
        "outputId": "1d426895-8ea7-4826-f729-211186676f7a"
      },
      "source": [
        "mnist_model_low_lr = get_untrained_model()\n",
        "mnist_model_low_lr.compile(\n",
        "    optimizer = tf.keras.optimizers.Adam(lr=0.00001), \n",
        "    loss = 'categorical_crossentropy', \n",
        "    metrics = ['accuracy']\n",
        "    )\n",
        "history_low_lr = mnist_model_low_lr.fit(\n",
        "    x_train, \n",
        "    y_train, \n",
        "    batch_size = 32, \n",
        "    epochs = 10, \n",
        "    validation_data = (x_test, y_test)\n",
        "    )"
      ],
      "execution_count": 11,
      "outputs": [
        {
          "output_type": "stream",
          "text": [
            "Epoch 1/10\n",
            "268/268 [==============================] - 2s 6ms/step - loss: 2.2866 - accuracy: 0.1252 - val_loss: 2.2229 - val_accuracy: 0.2591\n",
            "Epoch 2/10\n",
            "268/268 [==============================] - 1s 5ms/step - loss: 2.1981 - accuracy: 0.3145 - val_loss: 2.1163 - val_accuracy: 0.4537\n",
            "Epoch 3/10\n",
            "268/268 [==============================] - 1s 5ms/step - loss: 2.0808 - accuracy: 0.4857 - val_loss: 1.9691 - val_accuracy: 0.5763\n",
            "Epoch 4/10\n",
            "268/268 [==============================] - 1s 5ms/step - loss: 1.9179 - accuracy: 0.5971 - val_loss: 1.7758 - val_accuracy: 0.6629\n",
            "Epoch 5/10\n",
            "268/268 [==============================] - 1s 5ms/step - loss: 1.7221 - accuracy: 0.6837 - val_loss: 1.5571 - val_accuracy: 0.7110\n",
            "Epoch 6/10\n",
            "268/268 [==============================] - 1s 5ms/step - loss: 1.5006 - accuracy: 0.7221 - val_loss: 1.3415 - val_accuracy: 0.7494\n",
            "Epoch 7/10\n",
            "268/268 [==============================] - 2s 6ms/step - loss: 1.2866 - accuracy: 0.7638 - val_loss: 1.1499 - val_accuracy: 0.7749\n",
            "Epoch 8/10\n",
            "268/268 [==============================] - 1s 5ms/step - loss: 1.1124 - accuracy: 0.7820 - val_loss: 0.9920 - val_accuracy: 0.7930\n",
            "Epoch 9/10\n",
            "268/268 [==============================] - 2s 6ms/step - loss: 0.9509 - accuracy: 0.8006 - val_loss: 0.8689 - val_accuracy: 0.8064\n",
            "Epoch 10/10\n",
            "268/268 [==============================] - 1s 5ms/step - loss: 0.8406 - accuracy: 0.8168 - val_loss: 0.7746 - val_accuracy: 0.8210\n"
          ],
          "name": "stdout"
        }
      ]
    },
    {
      "cell_type": "code",
      "metadata": {
        "id": "PwwERwelZ2J9",
        "colab": {
          "base_uri": "https://localhost:8080/"
        },
        "outputId": "26d5bf7e-cc61-4f8e-ff2c-93118f290178"
      },
      "source": [
        "mnist_model_high_lr = get_untrained_model()\n",
        "mnist_model_high_lr.compile(\n",
        "    optimizer = tf.keras.optimizers.Adam(lr=10), \n",
        "    loss = 'categorical_crossentropy', \n",
        "    metrics = ['accuracy']\n",
        "    )\n",
        "history_high_lr = mnist_model_low_lr.fit(\n",
        "    x_train, \n",
        "    y_train, \n",
        "    batch_size = 32, \n",
        "    epochs = 10, \n",
        "    validation_data = (x_test, y_test)\n",
        "    )"
      ],
      "execution_count": 12,
      "outputs": [
        {
          "output_type": "stream",
          "text": [
            "Epoch 1/10\n",
            "268/268 [==============================] - 1s 5ms/step - loss: 0.7360 - accuracy: 0.8291 - val_loss: 0.6974 - val_accuracy: 0.8350\n",
            "Epoch 2/10\n",
            "268/268 [==============================] - 1s 5ms/step - loss: 0.6685 - accuracy: 0.8398 - val_loss: 0.6372 - val_accuracy: 0.8451\n",
            "Epoch 3/10\n",
            "268/268 [==============================] - 1s 6ms/step - loss: 0.6148 - accuracy: 0.8501 - val_loss: 0.5890 - val_accuracy: 0.8543\n",
            "Epoch 4/10\n",
            "268/268 [==============================] - 1s 5ms/step - loss: 0.5706 - accuracy: 0.8566 - val_loss: 0.5490 - val_accuracy: 0.8630\n",
            "Epoch 5/10\n",
            "268/268 [==============================] - 1s 5ms/step - loss: 0.5338 - accuracy: 0.8647 - val_loss: 0.5154 - val_accuracy: 0.8678\n",
            "Epoch 6/10\n",
            "268/268 [==============================] - 1s 5ms/step - loss: 0.5027 - accuracy: 0.8696 - val_loss: 0.4876 - val_accuracy: 0.8754\n",
            "Epoch 7/10\n",
            "268/268 [==============================] - 2s 6ms/step - loss: 0.4765 - accuracy: 0.8749 - val_loss: 0.4636 - val_accuracy: 0.8803\n",
            "Epoch 8/10\n",
            "268/268 [==============================] - 1s 5ms/step - loss: 0.4543 - accuracy: 0.8797 - val_loss: 0.4429 - val_accuracy: 0.8851\n",
            "Epoch 9/10\n",
            "268/268 [==============================] - 1s 5ms/step - loss: 0.4337 - accuracy: 0.8855 - val_loss: 0.4253 - val_accuracy: 0.8881\n",
            "Epoch 10/10\n",
            "268/268 [==============================] - 1s 5ms/step - loss: 0.4169 - accuracy: 0.8883 - val_loss: 0.4090 - val_accuracy: 0.8920\n"
          ],
          "name": "stdout"
        }
      ]
    },
    {
      "cell_type": "markdown",
      "metadata": {
        "id": "428TakM5k8Gy"
      },
      "source": [
        "## Evaluation\n",
        "\n",
        "Only the individual learning rates can be compared in the diagrams.\n",
        "\n",
        "It should be noted that this, as the most important hyper parameter, has a very significant influence on training success"
      ]
    },
    {
      "cell_type": "code",
      "metadata": {
        "id": "WdjiVESOZ2KE",
        "colab": {
          "base_uri": "https://localhost:8080/",
          "height": 295
        },
        "outputId": "ef84d125-636f-48bf-bf8e-d9ac5253461e"
      },
      "source": [
        "plot_history('MNIST, lr = 0.001', history, 0)"
      ],
      "execution_count": 17,
      "outputs": [
        {
          "output_type": "display_data",
          "data": {
            "image/png": "[encoded data removed]",
            "text/plain": [
              "<Figure size 432x288 with 1 Axes>"
            ]
          },
          "metadata": {
            "tags": [],
            "needs_background": "light"
          }
        }
      ]
    },
    {
      "cell_type": "code",
      "metadata": {
        "id": "G6Zu_baCZ2KI",
        "colab": {
          "base_uri": "https://localhost:8080/",
          "height": 295
        },
        "outputId": "a9eed176-9e24-4faa-820f-4c69f45912fa"
      },
      "source": [
        "plot_history('MNIST, lr = 0.00001', history_low_lr, 0)"
      ],
      "execution_count": 18,
      "outputs": [
        {
          "output_type": "display_data",
          "data": {
            "image/png": "[encoded data removed]",
            "text/plain": [
              "<Figure size 432x288 with 1 Axes>"
            ]
          },
          "metadata": {
            "tags": [],
            "needs_background": "light"
          }
        }
      ]
    },
    {
      "cell_type": "code",
      "metadata": {
        "id": "g23kNtyXetNw",
        "colab": {
          "base_uri": "https://localhost:8080/",
          "height": 295
        },
        "outputId": "e503306d-d249-42c5-e10c-c705b6c61451"
      },
      "source": [
        "plot_history('MNIST, lr = 10', history_high_lr, 0)"
      ],
      "execution_count": 19,
      "outputs": [
        {
          "output_type": "display_data",
          "data": {
            "image/png": "[encoded data removed]",
            "text/plain": [
              "<Figure size 432x288 with 1 Axes>"
            ]
          },
          "metadata": {
            "tags": [],
            "needs_background": "light"
          }
        }
      ]
    }
  ]
}