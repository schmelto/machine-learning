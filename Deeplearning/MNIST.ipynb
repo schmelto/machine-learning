{
  "nbformat": 4,
  "nbformat_minor": 0,
  "metadata": {
    "colab": {
      "name": "MNIST.ipynb",
      "provenance": [],
      "authorship_tag": "ABX9TyMGpeOCwy1FRtnWC2bS2fmW",
      "include_colab_link": true
    },
    "kernelspec": {
      "name": "python3",
      "display_name": "Python 3"
    }
  },
  "cells": [
    {
      "cell_type": "markdown",
      "metadata": {
        "id": "view-in-github",
        "colab_type": "text"
      },
      "source": [
        "<a href=\"https://colab.research.google.com/github/schmelto/machine-learning-with-python/blob/main/Deeplearning/MNIST.ipynb\" target=\"_parent\"><img src=\"https://colab.research.google.com/assets/colab-badge.svg\" alt=\"Open In Colab\"/></a>"
      ]
    },
    {
      "cell_type": "markdown",
      "metadata": {
        "id": "I9G_6dUDpyrQ"
      },
      "source": [
        "# MNIST-Dataset"
      ]
    },
    {
      "cell_type": "markdown",
      "metadata": {
        "id": "JeQIp3yyuP2X"
      },
      "source": [
        "### Imports"
      ]
    },
    {
      "cell_type": "code",
      "metadata": {
        "id": "b9iu2CkLnxKa"
      },
      "source": [
        "import tensorflow as tf\r\n",
        "from tensorflow import keras\r\n",
        "import numpy as np\r\n",
        "import matplotlib.pyplot as plt"
      ],
      "execution_count": 13,
      "outputs": []
    },
    {
      "cell_type": "markdown",
      "metadata": {
        "id": "ysULW9QXuK_m"
      },
      "source": [
        "### Helper Class for showing output of the network"
      ]
    },
    {
      "cell_type": "code",
      "metadata": {
        "id": "c-X8lOQxtYgZ"
      },
      "source": [
        "import typing\r\n",
        "from typing import TYPE_CHECKING\r\n",
        "\r\n",
        "def plot_predictions(\r\n",
        "    mdl: \"keras.models.Model\",\r\n",
        "    inputs: np.ndarray,\r\n",
        "    labels: typing.Optional[np.ndarray] = None,\r\n",
        "    classes: typing.Optional[typing.List[int]] = None,\r\n",
        "    images: typing.Optional[np.ndarray] = None,\r\n",
        "    max_cols: int = 3,\r\n",
        "    figsize: typing.Tuple[int, int] = (3, 2),\r\n",
        "    sparse: bool = False,\r\n",
        ") -> None:\r\n",
        "    assert len(inputs) > 0, \"Need at least one input\"\r\n",
        "    assert len(inputs) <= 100, \"Wont plot more than 100 images\"\r\n",
        "    if labels is not None:\r\n",
        "        assert len(inputs) == len(labels), \"Need as many labels as inputs!\"\r\n",
        "    num_cols = min(len(inputs), max_cols)\r\n",
        "    num_rows = int(len(inputs) / num_cols)\r\n",
        "    fig, plots = plt.subplots(\r\n",
        "        num_rows, num_cols, figsize=(figsize[0] * num_cols, figsize[1] * num_rows)\r\n",
        "    )\r\n",
        "    model_predictions = mdl.predict(inputs)\r\n",
        "    if classes is None:\r\n",
        "        classes = list(range(len(model_predictions[0])))\r\n",
        "    if images is None:\r\n",
        "        images = inputs\r\n",
        "    else:\r\n",
        "        assert len(classes) == len(\r\n",
        "            model_predictions[0]\r\n",
        "        ), \"Need as many class names as there are output neurons\"\r\n",
        "    for r in range(num_rows):\r\n",
        "        for c in range(num_cols):\r\n",
        "            i = r * num_cols + c\r\n",
        "            if not i < len(inputs):\r\n",
        "                continue\r\n",
        "            predicted_label = np.argmax(model_predictions[i])\r\n",
        "            title = str(classes[predicted_label])\r\n",
        "            if labels is None:\r\n",
        "                color, weight = (\"blue\", \"normal\")\r\n",
        "            else:\r\n",
        "                expected_label = labels[i] if sparse else np.argmax(labels[i])\r\n",
        "                prediction_correct = predicted_label == expected_label\r\n",
        "                if not prediction_correct:\r\n",
        "                    title += f\" (should be {classes[expected_label]})\"\r\n",
        "                color, weight = (\r\n",
        "                    (\"green\", \"light\") if prediction_correct else (\"red\", \"bold\")\r\n",
        "                )\r\n",
        "            plots[r][c].tick_params(top=False, bottom=False, left=False, right=False)\r\n",
        "            plots[r][c].imshow(images[i], cmap=plt.cm.binary)\r\n",
        "            plots[r][c].axis(\"off\")\r\n",
        "            plots[r][c].set_title(title, color=color, weight=weight)"
      ],
      "execution_count": 16,
      "outputs": []
    },
    {
      "cell_type": "markdown",
      "metadata": {
        "id": "uy7scgTDn3nw"
      },
      "source": [
        "## Load of the MNIST-Dataset\r\n",
        "First of all we want to load the MNIST-Dataset."
      ]
    },
    {
      "cell_type": "code",
      "metadata": {
        "id": "GAEBkoT3oBfX"
      },
      "source": [
        "data = keras.datasets.mnist\r\n",
        "(train_images, train_labels), (test_images, test_labels) = data.load_data()"
      ],
      "execution_count": null,
      "outputs": []
    },
    {
      "cell_type": "markdown",
      "metadata": {
        "id": "e-KdJ1DdoQDP"
      },
      "source": [
        "We have to normalize the values of the pixles by deviding the values by 255."
      ]
    },
    {
      "cell_type": "code",
      "metadata": {
        "id": "jaogV-0qoiNO"
      },
      "source": [
        "train_images = train_images / 255\r\n",
        "test_images = test_images / 255"
      ],
      "execution_count": null,
      "outputs": []
    },
    {
      "cell_type": "markdown",
      "metadata": {
        "id": "L19JwB9Tor39"
      },
      "source": [
        "* The picture with the handwrited 5 has the label 5.\r\n",
        "* We want to have the lable as a Vektor [0. 0. 0. 0. 0. 1. 0. 0. 0. 0.] which is in the necessary  for our network. This vektor has now on position 5 (starting at 0) a 1."
      ]
    },
    {
      "cell_type": "code",
      "metadata": {
        "id": "CloEs4nyo7W6"
      },
      "source": [
        "total_classes = 10\r\n",
        "train_vec_labels = keras.utils.to_categorical(train_labels, total_classes)\r\n",
        "test_vec_labels = keras.utils.to_categorical(test_labels, total_classes)"
      ],
      "execution_count": null,
      "outputs": []
    },
    {
      "cell_type": "markdown",
      "metadata": {
        "id": "Vs68hafTpnje"
      },
      "source": [
        "## Design of a network\r\n",
        "\r\n",
        "Now we have normalized the input data and the labels are available as vectors. So we can finally start building a network for recognizing the handwritten numbers.\r\n",
        "\r\n",
        "We want to define a very simple network with 3 layers (input layer, hidden layer and output layer):\r\n",
        "\r\n",
        "* We use a keras.layers.Flatten layer as the input layer, which distributes the 28x28 matrices that we receive as inputs to 28x28 = 784 neurons\r\n",
        "* Next, we use a keras.layers.Dense layer with 128 neurons for the hidden layer\r\n",
        "* We use a keras.layers.Dense layer with 10 neurons as the output layer, since we want to recognize 10 classes (digits from 0-9)"
      ]
    },
    {
      "cell_type": "code",
      "metadata": {
        "id": "8P5DunLwqStt"
      },
      "source": [
        "model = keras.Sequential([\r\n",
        "                          keras.layers.Flatten(input_shape=(28, 28)),\r\n",
        "                          keras.layers.Dense(128, activation='sigmoid'),\r\n",
        "                          keras.layers.Dense(10, activation='sigmoid')\r\n",
        "])"
      ],
      "execution_count": null,
      "outputs": []
    },
    {
      "cell_type": "markdown",
      "metadata": {
        "id": "yItaWjmRrkLy"
      },
      "source": [
        "## Compiling of the newtork\r\n",
        "\r\n",
        "After we have defined our network, we have to compile it before we can start training.\r\n",
        "\r\n",
        "In this step we define important parameters for the training phase:\r\n",
        "\r\n",
        "* The **optimizer** is the learning algorithm used in training to improve the network. In the last week we already got to know Gradient Descent and its optimization Stochastic Gradient Descent.\r\n",
        "* The **loss** is the cost function used. The aim during training is to minimize this. We already got to know the squared error function in week 1.\r\n",
        "* The **metrics** are the metrics evaluated during training. For all classification problems we are interested in the \"accuracy\".\r\n",
        "In this example we use\r\n",
        "\r\n",
        "The Stochastic Gradient Descent (\"sgd\") learning algorithm as our optimizer.\r\n",
        "The \"mean_squared_error\" cost function which, compared to the normal squared error cost function, does not calculate the sum but the mean of the errors of the output neurons."
      ]
    },
    {
      "cell_type": "code",
      "metadata": {
        "id": "ZvtAJi7msDev"
      },
      "source": [
        "# sgd = keras.optimizers.SGD(lr=0.01, decay=1e-6, momentum=0.9, nesterov=True)\r\n",
        "model.compile(\r\n",
        "    optimizer='sgd',\r\n",
        "    loss='mean_squared_error',\r\n",
        "    metrics=['accuracy'])"
      ],
      "execution_count": null,
      "outputs": []
    },
    {
      "cell_type": "markdown",
      "metadata": {
        "id": "r0Vzf5eMsI4O"
      },
      "source": [
        "## Train the network\r\n",
        "\r\n",
        "Now we can finally train our network. To do this, we use the fit method and transfer our training images as inputs with the associated labels as desired outputs. The number of epochs indicates how often the network can see the entire training set. If we increase the number of epochs, we let our network learn longer."
      ]
    },
    {
      "cell_type": "code",
      "metadata": {
        "colab": {
          "base_uri": "https://localhost:8080/"
        },
        "id": "zAmMnbyqsSEZ",
        "outputId": "0851ad33-ca71-4c62-f4aa-a9be844563f3"
      },
      "source": [
        "model.fit(train_images, train_vec_labels, epochs=10, verbose=True)"
      ],
      "execution_count": null,
      "outputs": [
        {
          "output_type": "stream",
          "text": [
            "Epoch 1/10\n",
            "1875/1875 [==============================] - 3s 2ms/step - loss: 0.1223 - accuracy: 0.1357\n",
            "Epoch 2/10\n",
            "1875/1875 [==============================] - 3s 2ms/step - loss: 0.0887 - accuracy: 0.2801\n",
            "Epoch 3/10\n",
            "1875/1875 [==============================] - 3s 2ms/step - loss: 0.0875 - accuracy: 0.3752\n",
            "Epoch 4/10\n",
            "1875/1875 [==============================] - 3s 2ms/step - loss: 0.0864 - accuracy: 0.4261\n",
            "Epoch 5/10\n",
            "1875/1875 [==============================] - 3s 2ms/step - loss: 0.0850 - accuracy: 0.4452\n",
            "Epoch 6/10\n",
            "1875/1875 [==============================] - 3s 2ms/step - loss: 0.0835 - accuracy: 0.4710\n",
            "Epoch 7/10\n",
            "1875/1875 [==============================] - 3s 2ms/step - loss: 0.0820 - accuracy: 0.4913\n",
            "Epoch 8/10\n",
            "1875/1875 [==============================] - 3s 2ms/step - loss: 0.0802 - accuracy: 0.5140\n",
            "Epoch 9/10\n",
            "1875/1875 [==============================] - 3s 2ms/step - loss: 0.0784 - accuracy: 0.5350\n",
            "Epoch 10/10\n",
            "1875/1875 [==============================] - 3s 2ms/step - loss: 0.0764 - accuracy: 0.5603\n"
          ],
          "name": "stdout"
        },
        {
          "output_type": "execute_result",
          "data": {
            "text/plain": [
              "<tensorflow.python.keras.callbacks.History at 0x7f4bc5be44a8>"
            ]
          },
          "metadata": {
            "tags": []
          },
          "execution_count": 22
        }
      ]
    },
    {
      "cell_type": "markdown",
      "metadata": {
        "id": "7pMD07bHsUqs"
      },
      "source": [
        "## Evalutaion of the newtork\r\n",
        "\r\n",
        "So far, the network has only seen training images and learned from them. But the aim is to recognize new images of handwritten numbers with our network. That's why there is the test data with which we now want to check our network for accuracy in the case of unseen data."
      ]
    },
    {
      "cell_type": "code",
      "metadata": {
        "colab": {
          "base_uri": "https://localhost:8080/"
        },
        "id": "t38RGXFzsdZt",
        "outputId": "aeb6dbb8-795c-4774-82b5-5ef801cca694"
      },
      "source": [
        "eval_loss, eval_accuracy = model.evaluate(test_images, test_vec_labels, verbose=False)\r\n",
        "print(\"Model accuracy: %.2f\" % eval_accuracy)"
      ],
      "execution_count": null,
      "outputs": [
        {
          "output_type": "stream",
          "text": [
            "Model accuracy: 0.58\n"
          ],
          "name": "stdout"
        }
      ]
    },
    {
      "cell_type": "markdown",
      "metadata": {
        "id": "hIv61suzteuY"
      },
      "source": [
        "# Output of the network"
      ]
    },
    {
      "cell_type": "code",
      "metadata": {
        "id": "s2epYWLetli9",
        "colab": {
          "base_uri": "https://localhost:8080/",
          "height": 699
        },
        "outputId": "46a66d0a-18ea-4fb9-ad57-ddf025cc123c"
      },
      "source": [
        "plot_predictions(model, test_images[:20], labels=test_vec_labels[:20])"
      ],
      "execution_count": null,
      "outputs": [
        {
          "output_type": "display_data",
          "data": {
            "image/png": "[encoded data removed]",
            "text/plain": [
              "<Figure size 648x864 with 18 Axes>"
            ]
          },
          "metadata": {
            "tags": [],
            "needs_background": "light"
          }
        }
      ]
    },
    {
      "cell_type": "markdown",
      "metadata": {
        "id": "qTj6QxSI-MOw"
      },
      "source": [
        "# Fashion MNIST-Dataset"
      ]
    },
    {
      "cell_type": "code",
      "metadata": {
        "id": "Q22QGZ0P-SF8"
      },
      "source": [
        "import tensorflow as tf\r\n",
        "from tensorflow import keras\r\n",
        "import numpy as np\r\n",
        "import matplotlib.pyplot as plt"
      ],
      "execution_count": 1,
      "outputs": []
    },
    {
      "cell_type": "code",
      "metadata": {
        "id": "KtfwKY6t-S_J",
        "outputId": "afd9e6fd-50e5-401e-9859-3cb4567b46b7",
        "colab": {
          "base_uri": "https://localhost:8080/"
        }
      },
      "source": [
        "data = keras.datasets.fashion_mnist\r\n",
        "(train_images, train_labels), (test_images, test_labels) = data.load_data()"
      ],
      "execution_count": 2,
      "outputs": [
        {
          "output_type": "stream",
          "text": [
            "Downloading data from https://storage.googleapis.com/tensorflow/tf-keras-datasets/train-labels-idx1-ubyte.gz\n",
            "32768/29515 [=================================] - 0s 0us/step\n",
            "Downloading data from https://storage.googleapis.com/tensorflow/tf-keras-datasets/train-images-idx3-ubyte.gz\n",
            "26427392/26421880 [==============================] - 0s 0us/step\n",
            "Downloading data from https://storage.googleapis.com/tensorflow/tf-keras-datasets/t10k-labels-idx1-ubyte.gz\n",
            "8192/5148 [===============================================] - 0s 0us/step\n",
            "Downloading data from https://storage.googleapis.com/tensorflow/tf-keras-datasets/t10k-images-idx3-ubyte.gz\n",
            "4423680/4422102 [==============================] - 0s 0us/step\n"
          ],
          "name": "stdout"
        }
      ]
    },
    {
      "cell_type": "code",
      "metadata": {
        "id": "LdQtECSb-gL7"
      },
      "source": [
        "train_images = train_images / 255.0\r\n",
        "test_images = test_images / 255.0"
      ],
      "execution_count": 3,
      "outputs": []
    },
    {
      "cell_type": "code",
      "metadata": {
        "id": "mm-Twk44-gqV"
      },
      "source": [
        "total_classes = 10\r\n",
        "train_vec_labels = keras.utils.to_categorical(train_labels, total_classes)\r\n",
        "test_vec_labels = keras.utils.to_categorical(test_labels, total_classes)"
      ],
      "execution_count": 4,
      "outputs": []
    },
    {
      "cell_type": "code",
      "metadata": {
        "id": "6MHltJhJ-t-F"
      },
      "source": [
        "model = keras.Sequential([\r\n",
        "    keras.layers.Flatten(input_shape=(28, 28)),\r\n",
        "    keras.layers.Dense(128, activation='sigmoid'), \r\n",
        "    keras.layers.Dense(10, activation='sigmoid')\r\n",
        "])"
      ],
      "execution_count": 6,
      "outputs": []
    },
    {
      "cell_type": "code",
      "metadata": {
        "id": "HirkrRH8-iWU"
      },
      "source": [
        "model.compile(\r\n",
        "    optimizer='sgd',\r\n",
        "    loss='mean_squared_error',\r\n",
        "    metrics=['accuracy'])"
      ],
      "execution_count": 7,
      "outputs": []
    },
    {
      "cell_type": "code",
      "metadata": {
        "id": "eY5e-t8K-lUD",
        "outputId": "5d10ebbd-72ae-4e16-b429-a28c41feb939",
        "colab": {
          "base_uri": "https://localhost:8080/"
        }
      },
      "source": [
        "model.fit(train_images, train_vec_labels, epochs=50, verbose=True)"
      ],
      "execution_count": 8,
      "outputs": [
        {
          "output_type": "stream",
          "text": [
            "Epoch 1/50\n",
            "1875/1875 [==============================] - 3s 1ms/step - loss: 0.1403 - accuracy: 0.1576\n",
            "Epoch 2/50\n",
            "1875/1875 [==============================] - 2s 1ms/step - loss: 0.0874 - accuracy: 0.3539\n",
            "Epoch 3/50\n",
            "1875/1875 [==============================] - 2s 1ms/step - loss: 0.0850 - accuracy: 0.4390\n",
            "Epoch 4/50\n",
            "1875/1875 [==============================] - 2s 1ms/step - loss: 0.0824 - accuracy: 0.4872\n",
            "Epoch 5/50\n",
            "1875/1875 [==============================] - 2s 1ms/step - loss: 0.0796 - accuracy: 0.5026\n",
            "Epoch 6/50\n",
            "1875/1875 [==============================] - 2s 1ms/step - loss: 0.0767 - accuracy: 0.5238\n",
            "Epoch 7/50\n",
            "1875/1875 [==============================] - 2s 1ms/step - loss: 0.0739 - accuracy: 0.5449\n",
            "Epoch 8/50\n",
            "1875/1875 [==============================] - 2s 1ms/step - loss: 0.0713 - accuracy: 0.5693\n",
            "Epoch 9/50\n",
            "1875/1875 [==============================] - 2s 1ms/step - loss: 0.0689 - accuracy: 0.5905\n",
            "Epoch 10/50\n",
            "1875/1875 [==============================] - 2s 1ms/step - loss: 0.0668 - accuracy: 0.6134\n",
            "Epoch 11/50\n",
            "1875/1875 [==============================] - 2s 1ms/step - loss: 0.0647 - accuracy: 0.6280\n",
            "Epoch 12/50\n",
            "1875/1875 [==============================] - 2s 1ms/step - loss: 0.0631 - accuracy: 0.6442\n",
            "Epoch 13/50\n",
            "1875/1875 [==============================] - 2s 1ms/step - loss: 0.0614 - accuracy: 0.6576\n",
            "Epoch 14/50\n",
            "1875/1875 [==============================] - 2s 1ms/step - loss: 0.0600 - accuracy: 0.6672\n",
            "Epoch 15/50\n",
            "1875/1875 [==============================] - 2s 1ms/step - loss: 0.0587 - accuracy: 0.6765\n",
            "Epoch 16/50\n",
            "1875/1875 [==============================] - 2s 1ms/step - loss: 0.0573 - accuracy: 0.6876\n",
            "Epoch 17/50\n",
            "1875/1875 [==============================] - 2s 1ms/step - loss: 0.0561 - accuracy: 0.6938\n",
            "Epoch 18/50\n",
            "1875/1875 [==============================] - 3s 1ms/step - loss: 0.0551 - accuracy: 0.6972\n",
            "Epoch 19/50\n",
            "1875/1875 [==============================] - 3s 1ms/step - loss: 0.0539 - accuracy: 0.7042\n",
            "Epoch 20/50\n",
            "1875/1875 [==============================] - 3s 1ms/step - loss: 0.0529 - accuracy: 0.7073\n",
            "Epoch 21/50\n",
            "1875/1875 [==============================] - 3s 1ms/step - loss: 0.0520 - accuracy: 0.7096\n",
            "Epoch 22/50\n",
            "1875/1875 [==============================] - 3s 1ms/step - loss: 0.0513 - accuracy: 0.7102\n",
            "Epoch 23/50\n",
            "1875/1875 [==============================] - 2s 1ms/step - loss: 0.0505 - accuracy: 0.7144\n",
            "Epoch 24/50\n",
            "1875/1875 [==============================] - 2s 1ms/step - loss: 0.0498 - accuracy: 0.7154\n",
            "Epoch 25/50\n",
            "1875/1875 [==============================] - 2s 1ms/step - loss: 0.0490 - accuracy: 0.7187\n",
            "Epoch 26/50\n",
            "1875/1875 [==============================] - 2s 1ms/step - loss: 0.0483 - accuracy: 0.7220\n",
            "Epoch 27/50\n",
            "1875/1875 [==============================] - 2s 1ms/step - loss: 0.0476 - accuracy: 0.7251\n",
            "Epoch 28/50\n",
            "1875/1875 [==============================] - 2s 1ms/step - loss: 0.0473 - accuracy: 0.7244\n",
            "Epoch 29/50\n",
            "1875/1875 [==============================] - 2s 1ms/step - loss: 0.0465 - accuracy: 0.7271\n",
            "Epoch 30/50\n",
            "1875/1875 [==============================] - 2s 1ms/step - loss: 0.0461 - accuracy: 0.7290\n",
            "Epoch 31/50\n",
            "1875/1875 [==============================] - 2s 1ms/step - loss: 0.0457 - accuracy: 0.7309\n",
            "Epoch 32/50\n",
            "1875/1875 [==============================] - 2s 1ms/step - loss: 0.0451 - accuracy: 0.7325\n",
            "Epoch 33/50\n",
            "1875/1875 [==============================] - 2s 1ms/step - loss: 0.0448 - accuracy: 0.7325\n",
            "Epoch 34/50\n",
            "1875/1875 [==============================] - 2s 1ms/step - loss: 0.0443 - accuracy: 0.7344\n",
            "Epoch 35/50\n",
            "1875/1875 [==============================] - 2s 1ms/step - loss: 0.0439 - accuracy: 0.7347\n",
            "Epoch 36/50\n",
            "1875/1875 [==============================] - 2s 1ms/step - loss: 0.0435 - accuracy: 0.7352\n",
            "Epoch 37/50\n",
            "1875/1875 [==============================] - 2s 1ms/step - loss: 0.0429 - accuracy: 0.7400\n",
            "Epoch 38/50\n",
            "1875/1875 [==============================] - 2s 1ms/step - loss: 0.0428 - accuracy: 0.7386\n",
            "Epoch 39/50\n",
            "1875/1875 [==============================] - 2s 1ms/step - loss: 0.0424 - accuracy: 0.7405\n",
            "Epoch 40/50\n",
            "1875/1875 [==============================] - 2s 1ms/step - loss: 0.0421 - accuracy: 0.7404\n",
            "Epoch 41/50\n",
            "1875/1875 [==============================] - 2s 1ms/step - loss: 0.0417 - accuracy: 0.7431\n",
            "Epoch 42/50\n",
            "1875/1875 [==============================] - 2s 1ms/step - loss: 0.0415 - accuracy: 0.7417\n",
            "Epoch 43/50\n",
            "1875/1875 [==============================] - 2s 1ms/step - loss: 0.0410 - accuracy: 0.7452\n",
            "Epoch 44/50\n",
            "1875/1875 [==============================] - 2s 1ms/step - loss: 0.0409 - accuracy: 0.7453\n",
            "Epoch 45/50\n",
            "1875/1875 [==============================] - 2s 1ms/step - loss: 0.0406 - accuracy: 0.7478\n",
            "Epoch 46/50\n",
            "1875/1875 [==============================] - 2s 1ms/step - loss: 0.0403 - accuracy: 0.7500\n",
            "Epoch 47/50\n",
            "1875/1875 [==============================] - 2s 1ms/step - loss: 0.0403 - accuracy: 0.7471\n",
            "Epoch 48/50\n",
            "1875/1875 [==============================] - 2s 1ms/step - loss: 0.0399 - accuracy: 0.7497\n",
            "Epoch 49/50\n",
            "1875/1875 [==============================] - 2s 1ms/step - loss: 0.0397 - accuracy: 0.7504\n",
            "Epoch 50/50\n",
            "1875/1875 [==============================] - 2s 1ms/step - loss: 0.0395 - accuracy: 0.7523\n"
          ],
          "name": "stdout"
        },
        {
          "output_type": "execute_result",
          "data": {
            "text/plain": [
              "<tensorflow.python.keras.callbacks.History at 0x7f3a90c05cc0>"
            ]
          },
          "metadata": {
            "tags": []
          },
          "execution_count": 8
        }
      ]
    },
    {
      "cell_type": "code",
      "metadata": {
        "id": "UIwkMMg8-wG6",
        "outputId": "dfc5c37d-2cdc-41fd-c89b-bf0258b66d46",
        "colab": {
          "base_uri": "https://localhost:8080/"
        }
      },
      "source": [
        "eval_loss, eval_accuracy = model.evaluate(test_images, test_vec_labels, verbose=False)\r\n",
        "print(\"Model accuracy: %.2f\" % eval_accuracy)"
      ],
      "execution_count": 10,
      "outputs": [
        {
          "output_type": "stream",
          "text": [
            "Model accuracy: 0.75\n"
          ],
          "name": "stdout"
        }
      ]
    },
    {
      "cell_type": "code",
      "metadata": {
        "id": "Ig0w-edW-zDz",
        "outputId": "c75fa082-4631-4afa-f8dc-65da978c6427",
        "colab": {
          "base_uri": "https://localhost:8080/",
          "height": 699
        }
      },
      "source": [
        "plot_predictions(model, test_images[:20], labels=test_vec_labels[:20])"
      ],
      "execution_count": 18,
      "outputs": [
        {
          "output_type": "display_data",
          "data": {
            "image/png": "[encoded data removed]",
            "text/plain": [
              "<Figure size 648x864 with 18 Axes>"
            ]
          },
          "metadata": {
            "tags": [],
            "needs_background": "light"
          }
        }
      ]
    }
  ]
}