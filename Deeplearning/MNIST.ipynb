{
  "nbformat": 4,
  "nbformat_minor": 0,
  "metadata": {
    "colab": {
      "name": "MNIST.ipynb",
      "provenance": [],
      "authorship_tag": "ABX9TyN/CUfdCAnSKmuISV2F8NHA",
      "include_colab_link": true
    },
    "kernelspec": {
      "name": "python3",
      "display_name": "Python 3"
    }
  },
  "cells": [
    {
      "cell_type": "markdown",
      "metadata": {
        "id": "view-in-github",
        "colab_type": "text"
      },
      "source": [
        "<a href=\"https://colab.research.google.com/github/schmelto/machine-learning-with-python/blob/main/Deeplearning/MNIST.ipynb\" target=\"_parent\"><img src=\"https://colab.research.google.com/assets/colab-badge.svg\" alt=\"Open In Colab\"/></a>"
      ]
    },
    {
      "cell_type": "markdown",
      "metadata": {
        "id": "I9G_6dUDpyrQ"
      },
      "source": [
        "# MNIST-Dataset"
      ]
    },
    {
      "cell_type": "code",
      "metadata": {
        "id": "b9iu2CkLnxKa"
      },
      "source": [
        "import tensorflow as tf\r\n",
        "from tensorflow import keras\r\n",
        "import numpy as np\r\n",
        "import matplotlib.pyplot as plt"
      ],
      "execution_count": null,
      "outputs": []
    },
    {
      "cell_type": "markdown",
      "metadata": {
        "id": "uy7scgTDn3nw"
      },
      "source": [
        "## Load of the MNIST-Dataset\r\n",
        "First of all we want to load the MNIST-Dataset."
      ]
    },
    {
      "cell_type": "code",
      "metadata": {
        "id": "GAEBkoT3oBfX"
      },
      "source": [
        "data = keras.datasets.mnist\r\n",
        "(train_images, train_labels), (test_images, test_labels) = data.load_data()"
      ],
      "execution_count": 18,
      "outputs": []
    },
    {
      "cell_type": "markdown",
      "metadata": {
        "id": "e-KdJ1DdoQDP"
      },
      "source": [
        "We have to normalize the values of the pixles by deviding the values by 255."
      ]
    },
    {
      "cell_type": "code",
      "metadata": {
        "id": "jaogV-0qoiNO"
      },
      "source": [
        "train_images = train_images / 255\r\n",
        "test_images = test_images / 255"
      ],
      "execution_count": 19,
      "outputs": []
    },
    {
      "cell_type": "markdown",
      "metadata": {
        "id": "L19JwB9Tor39"
      },
      "source": [
        "* The picture with the handwrited 5 has the label 5.\r\n",
        "* We want to have the lable as a Vektor [0. 0. 0. 0. 0. 1. 0. 0. 0. 0.] which is in the necessary  for our network. This vektor has now on position 5 (starting at 0) a 1."
      ]
    },
    {
      "cell_type": "code",
      "metadata": {
        "id": "CloEs4nyo7W6"
      },
      "source": [
        "total_classes = 10\r\n",
        "train_vec_labels = keras.utils.to_categorical(train_labels, total_classes)\r\n",
        "test_vec_labels = keras.utils.to_categorical(test_labels, total_classes)"
      ],
      "execution_count": 20,
      "outputs": []
    },
    {
      "cell_type": "markdown",
      "metadata": {
        "id": "Vs68hafTpnje"
      },
      "source": [
        "## Design of a network\r\n",
        "\r\n",
        "Now we have normalized the input data and the labels are available as vectors. So we can finally start building a network for recognizing the handwritten numbers.\r\n",
        "\r\n",
        "We want to define a very simple network with 3 layers (input layer, hidden layer and output layer):\r\n",
        "\r\n",
        "* We use a keras.layers.Flatten layer as the input layer, which distributes the 28x28 matrices that we receive as inputs to 28x28 = 784 neurons\r\n",
        "* Next, we use a keras.layers.Dense layer with 128 neurons for the hidden layer\r\n",
        "* We use a keras.layers.Dense layer with 10 neurons as the output layer, since we want to recognize 10 classes (digits from 0-9)"
      ]
    },
    {
      "cell_type": "code",
      "metadata": {
        "id": "8P5DunLwqStt"
      },
      "source": [
        "model = keras.Sequential([\r\n",
        "                          keras.layers.Flatten(input_shape=(28, 28)),\r\n",
        "                          keras.layers.Dense(128, activation='sigmoid'),\r\n",
        "                          keras.layers.Dense(10, activation='sigmoid')\r\n",
        "])"
      ],
      "execution_count": 12,
      "outputs": []
    },
    {
      "cell_type": "markdown",
      "metadata": {
        "id": "yItaWjmRrkLy"
      },
      "source": [
        "## Compiling of the newtork\r\n",
        "\r\n",
        "After we have defined our network, we have to compile it before we can start training.\r\n",
        "\r\n",
        "In this step we define important parameters for the training phase:\r\n",
        "\r\n",
        "* The **optimizer** is the learning algorithm used in training to improve the network. In the last week we already got to know Gradient Descent and its optimization Stochastic Gradient Descent.\r\n",
        "* The **loss** is the cost function used. The aim during training is to minimize this. We already got to know the squared error function in week 1.\r\n",
        "* The **metrics** are the metrics evaluated during training. For all classification problems we are interested in the \"accuracy\".\r\n",
        "In this example we use\r\n",
        "\r\n",
        "The Stochastic Gradient Descent (\"sgd\") learning algorithm as our optimizer.\r\n",
        "The \"mean_squared_error\" cost function which, compared to the normal squared error cost function, does not calculate the sum but the mean of the errors of the output neurons."
      ]
    },
    {
      "cell_type": "code",
      "metadata": {
        "id": "ZvtAJi7msDev"
      },
      "source": [
        "# sgd = keras.optimizers.SGD(lr=0.01, decay=1e-6, momentum=0.9, nesterov=True)\r\n",
        "model.compile(\r\n",
        "    optimizer='sgd',\r\n",
        "    loss='mean_squared_error',\r\n",
        "    metrics=['accuracy'])"
      ],
      "execution_count": 21,
      "outputs": []
    },
    {
      "cell_type": "markdown",
      "metadata": {
        "id": "r0Vzf5eMsI4O"
      },
      "source": [
        "## Train the network\r\n",
        "\r\n",
        "Now we can finally train our network. To do this, we use the fit method and transfer our training images as inputs with the associated labels as desired outputs. The number of epochs indicates how often the network can see the entire training set. If we increase the number of epochs, we let our network learn longer."
      ]
    },
    {
      "cell_type": "code",
      "metadata": {
        "id": "zAmMnbyqsSEZ",
        "outputId": "0851ad33-ca71-4c62-f4aa-a9be844563f3",
        "colab": {
          "base_uri": "https://localhost:8080/"
        }
      },
      "source": [
        "model.fit(train_images, train_vec_labels, epochs=10, verbose=True)"
      ],
      "execution_count": 22,
      "outputs": [
        {
          "output_type": "stream",
          "text": [
            "Epoch 1/10\n",
            "1875/1875 [==============================] - 3s 2ms/step - loss: 0.1223 - accuracy: 0.1357\n",
            "Epoch 2/10\n",
            "1875/1875 [==============================] - 3s 2ms/step - loss: 0.0887 - accuracy: 0.2801\n",
            "Epoch 3/10\n",
            "1875/1875 [==============================] - 3s 2ms/step - loss: 0.0875 - accuracy: 0.3752\n",
            "Epoch 4/10\n",
            "1875/1875 [==============================] - 3s 2ms/step - loss: 0.0864 - accuracy: 0.4261\n",
            "Epoch 5/10\n",
            "1875/1875 [==============================] - 3s 2ms/step - loss: 0.0850 - accuracy: 0.4452\n",
            "Epoch 6/10\n",
            "1875/1875 [==============================] - 3s 2ms/step - loss: 0.0835 - accuracy: 0.4710\n",
            "Epoch 7/10\n",
            "1875/1875 [==============================] - 3s 2ms/step - loss: 0.0820 - accuracy: 0.4913\n",
            "Epoch 8/10\n",
            "1875/1875 [==============================] - 3s 2ms/step - loss: 0.0802 - accuracy: 0.5140\n",
            "Epoch 9/10\n",
            "1875/1875 [==============================] - 3s 2ms/step - loss: 0.0784 - accuracy: 0.5350\n",
            "Epoch 10/10\n",
            "1875/1875 [==============================] - 3s 2ms/step - loss: 0.0764 - accuracy: 0.5603\n"
          ],
          "name": "stdout"
        },
        {
          "output_type": "execute_result",
          "data": {
            "text/plain": [
              "<tensorflow.python.keras.callbacks.History at 0x7f4bc5be44a8>"
            ]
          },
          "metadata": {
            "tags": []
          },
          "execution_count": 22
        }
      ]
    },
    {
      "cell_type": "markdown",
      "metadata": {
        "id": "7pMD07bHsUqs"
      },
      "source": [
        "## Evalutaion of the newtork\r\n",
        "\r\n",
        "So far, the network has only seen training images and learned from them. But the aim is to recognize new images of handwritten numbers with our network. That's why there is the test data with which we now want to check our network for accuracy in the case of unseen data."
      ]
    },
    {
      "cell_type": "code",
      "metadata": {
        "id": "t38RGXFzsdZt",
        "outputId": "aeb6dbb8-795c-4774-82b5-5ef801cca694",
        "colab": {
          "base_uri": "https://localhost:8080/"
        }
      },
      "source": [
        "eval_loss, eval_accuracy = model.evaluate(test_images, test_vec_labels, verbose=False)\r\n",
        "print(\"Model accuracy: %.2f\" % eval_accuracy)"
      ],
      "execution_count": 23,
      "outputs": [
        {
          "output_type": "stream",
          "text": [
            "Model accuracy: 0.58\n"
          ],
          "name": "stdout"
        }
      ]
    }
  ]
}