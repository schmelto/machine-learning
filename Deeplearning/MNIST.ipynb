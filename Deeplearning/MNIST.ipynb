{
  "nbformat": 4,
  "nbformat_minor": 0,
  "metadata": {
    "colab": {
      "name": "MNIST.ipynb",
      "provenance": [],
      "authorship_tag": "ABX9TyNxR3YEd6PG896mF8wEly63",
      "include_colab_link": true
    },
    "kernelspec": {
      "name": "python3",
      "display_name": "Python 3"
    }
  },
  "cells": [
    {
      "cell_type": "markdown",
      "metadata": {
        "id": "view-in-github",
        "colab_type": "text"
      },
      "source": [
        "<a href=\"https://colab.research.google.com/github/schmelto/machine-learning-with-python/blob/main/Deeplearning/MNIST.ipynb\" target=\"_parent\"><img src=\"https://colab.research.google.com/assets/colab-badge.svg\" alt=\"Open In Colab\"/></a>"
      ]
    },
    {
      "cell_type": "markdown",
      "metadata": {
        "id": "I9G_6dUDpyrQ"
      },
      "source": [
        "# MNIST-Dataset"
      ]
    },
    {
      "cell_type": "code",
      "metadata": {
        "id": "b9iu2CkLnxKa"
      },
      "source": [
        "import tensorflow as tf\r\n",
        "from tensorflow import keras\r\n",
        "import numpy as np\r\n",
        "import matplotlib.pyplot as plt"
      ],
      "execution_count": null,
      "outputs": []
    },
    {
      "cell_type": "markdown",
      "metadata": {
        "id": "uy7scgTDn3nw"
      },
      "source": [
        "## Load of the MNIST-Dataset\r\n",
        "First of all we want to load the MNIST-Dataset."
      ]
    },
    {
      "cell_type": "code",
      "metadata": {
        "id": "GAEBkoT3oBfX"
      },
      "source": [
        "data = keras.datasets.mnist\r\n",
        "(train_images, train_labels), (test_images, test_labels) = data.load_data()"
      ],
      "execution_count": 18,
      "outputs": []
    },
    {
      "cell_type": "markdown",
      "metadata": {
        "id": "e-KdJ1DdoQDP"
      },
      "source": [
        "We have to normalize the values of the pixles by deviding the values by 255."
      ]
    },
    {
      "cell_type": "code",
      "metadata": {
        "id": "jaogV-0qoiNO"
      },
      "source": [
        "train_images = train_images / 255\r\n",
        "test_images = test_images / 255"
      ],
      "execution_count": 19,
      "outputs": []
    },
    {
      "cell_type": "markdown",
      "metadata": {
        "id": "L19JwB9Tor39"
      },
      "source": [
        "* The picture with the handwrited 5 has the label 5.\r\n",
        "* We want to have the lable as a Vektor [0. 0. 0. 0. 0. 1. 0. 0. 0. 0.] which is in the necessary from for our net. This vektor has now on position 5 (starting at 0) a 1."
      ]
    },
    {
      "cell_type": "code",
      "metadata": {
        "id": "CloEs4nyo7W6"
      },
      "source": [
        "total_classes = 10\r\n",
        "train_vec_labels = keras.utils.to_categorical(train_labels, total_classes)\r\n",
        "test_vec_labels = keras.utils.to_categorical(test_labels, total_classes)"
      ],
      "execution_count": 20,
      "outputs": []
    },
    {
      "cell_type": "markdown",
      "metadata": {
        "id": "Vs68hafTpnje"
      },
      "source": [
        "## Design of a network\r\n",
        "\r\n",
        "Now we have normalized the input data and the labels are available as vectors. So we can finally start building a network for recognizing the handwritten numbers.\r\n",
        "\r\n",
        "We want to define a very simple network with 3 layers (input layer, hidden layer and output layer):\r\n",
        "\r\n",
        "* We use a keras.layers.Flatten layer as the input layer, which distributes the 28x28 matrices that we receive as inputs to 28x28 = 784 neurons\r\n",
        "* Next, we use a keras.layers.Dense layer with 128 neurons for the hidden layer\r\n",
        "* We use a keras.layers.Dense layer with 10 neurons as the output layer, since we want to recognize 10 classes (digits from 0-9)"
      ]
    },
    {
      "cell_type": "code",
      "metadata": {
        "id": "8P5DunLwqStt"
      },
      "source": [
        "model = keras.Sequential([\r\n",
        "                          keras.layers.Flatten(input_shape=(28, 28)),\r\n",
        "                          keras.layers.Dense(128, activation='sigmoid'),\r\n",
        "                          keras.layers.Dense(10, activation='sigmoid')\r\n",
        "])"
      ],
      "execution_count": 12,
      "outputs": []
    }
  ]
}