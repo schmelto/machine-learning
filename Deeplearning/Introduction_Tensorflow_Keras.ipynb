{
  "nbformat": 4,
  "nbformat_minor": 0,
  "metadata": {
    "colab": {
      "name": "Introduction Tensorflow/Keras",
      "provenance": [],
      "collapsed_sections": [],
      "include_colab_link": true
    },
    "kernelspec": {
      "name": "python3",
      "display_name": "Python 3"
    },
    "pycharm": {
      "stem_cell": {
        "cell_type": "raw",
        "source": [],
        "metadata": {
          "collapsed": false
        }
      }
    }
  },
  "cells": [
    {
      "cell_type": "markdown",
      "metadata": {
        "id": "view-in-github",
        "colab_type": "text"
      },
      "source": [
        "<a href=\"https://colab.research.google.com/github/schmelto/machine-learning/blob/main/Deeplearning/Introduction_Tensorflow_Keras.ipynb\" target=\"_parent\"><img src=\"https://colab.research.google.com/assets/colab-badge.svg\" alt=\"Open In Colab\"/></a>"
      ]
    },
    {
      "cell_type": "markdown",
      "metadata": {
        "id": "6ZBGfn2537Vd"
      },
      "source": [
        "# Introduction of Tensorflow / Keras"
      ]
    },
    {
      "cell_type": "markdown",
      "metadata": {
        "id": "yxOOgazUG2LS"
      },
      "source": [
        "## Keras sequential model API\n",
        "\n",
        "The sequential model is **a linear stack** of layers (of neurons).\n",
        "\n",
        "**Import**\n",
        "```python\n",
        "import tensorflow\n",
        "from tensorflow import keras\n",
        "```\n",
        "\n",
        "You can create a sequential model by passing a **list of layers** to the constructor that you want to use:\n",
        "```python\n",
        "model = Sequential([\n",
        "    Dense(32, input_dim=784), \n",
        "    Activation('linear'),\n",
        "])\n",
        "```\n",
        "* `Dense()` is a \"dense\" layer, each neuron is connected to each neuron of the next layer\n",
        "   * `Dense(32)` means that this layer consists of 32 neurons\n",
        "   * `input_dim = 784` is the specification of the input form\n",
        "     * means that the input should be a 784-dimensional vector\n",
        "* `Activation()` '' is the specification of the activation function of the neurons (reminder of the staircase function)\n",
        "   * `Activation('linear')` is the linear activation function"
      ]
    },
    {
      "cell_type": "markdown",
      "metadata": {
        "id": "wLAUv2rhLeTe"
      },
      "source": [
        "### Alternative notation (add function)\n",
        "We can do the same thing with the `.add() 'function:\n",
        "```python\n",
        "model = Sequential()\n",
        "model.add(Dense(32, input_dim=784))\n",
        "model.add(Activation('linear'))\n",
        "```"
      ]
    },
    {
      "cell_type": "markdown",
      "metadata": {
        "id": "QeGvCO8hN9nc"
      },
      "source": [
        "### Configure and compile the model\n",
        "\n",
        "**`compile`-function:**\n",
        "* Configuration of the model\n",
        "   * We **must specify** an **optimizer** (otherwise the network cannot learn).\n",
        "   * We can also specify an error function and a metric (measuring the accuracy)\n",
        "   * *We do not need the other parameters at this point.*\n",
        "   * *Advanced participants will find their definition here:* [Keras Documentation](https://keras.io/models/model/#compile)\n",
        "\n",
        "```python\n",
        "model.compile(optimizer, loss=None, metrics=None, loss_weights=None, sample_weight_mode=None, weighted_metrics=None, target_tensors=None)\n",
        "```"
      ]
    },
    {
      "cell_type": "markdown",
      "metadata": {
        "id": "9PEfQwJEOBni"
      },
      "source": [
        "### Model training\n",
        "\n",
        "**`fit`-function:**\n",
        "* Training the model\n",
        "     * We pass\n",
        "         * the **input data** (array or list)\n",
        "         * the **target data** (desired result per entry)\n",
        "     * The *batch size* describes how many entries are fed through the network before the gradient is calculated for the next adjustment.\n",
        "     * An *epoch* is a complete iteration over the entire data set (all batches). We indicate how many of these should be done.\n",
        "\n",
        "\n",
        "```python\n",
        "model.fit(x=None, y=None, batch_size=None, epochs=1, verbose=1, callbacks=None,\n",
        " validation_split=0.0, validation_data=None, shuffle=True, class_weight=None, \n",
        " sample_weight=None, initial_epoch=0, steps_per_epoch=None,  validation_steps=None, \n",
        " validation_freq=1, max_queue_size=10, workers=1,  use_multiprocessing=False)\n",
        "```\n"
      ]
    },
    {
      "cell_type": "markdown",
      "metadata": {
        "id": "Abip37MZOGJ-"
      },
      "source": [
        "### Evaluate the model\n",
        "\n",
        "**`evaluate`-function:**\n",
        "* Evaluation of the model\n",
        "     * Returns the model's error and accuracy metrics\n",
        "     * Calculation per batch\n",
        "     * We pass (as in the `fit` function)\n",
        "       * the **input data** (in this case the training data as an array or list)\n",
        "       * the **target data** (desired result per entry)\n",
        "\n",
        "```python\n",
        "model.evaluate(x=None, y=None, batch_size=None, verbose=1, sample_weight=None, \n",
        "steps=None, callbacks=None, max_queue_size=10, workers=1, use_multiprocessing=False)\n",
        "```\n"
      ]
    },
    {
      "cell_type": "markdown",
      "metadata": {
        "id": "qVEFcmb02ulZ"
      },
      "source": [
        "### Model makes predictions\n",
        "\n",
        "**`predict`-function:**\n",
        "* Predictions of the model\n",
        "   * Prediction of the labels of the test data (data not yet seen)\n",
        "   * Calculation is based on batches (the size of which we should specify).\n",
        "\n",
        "\n",
        "```python\n",
        "model.predict(x, batch_size=None, verbose=0, steps=None, callbacks=None, \n",
        "max_queue_size=10, workers=1, use_multiprocessing=False)\n",
        "```"
      ]
    },
    {
      "cell_type": "markdown",
      "metadata": {
        "id": "gN9RmOcm4Qqc"
      },
      "source": [
        "## Keras functional model API"
      ]
    },
    {
      "cell_type": "markdown",
      "metadata": {
        "id": "kMvn6CeGN1_Z"
      },
      "source": [
        "The Keras functional API offers more freedom in the **definition of complex neural networks**.\n",
        "\n",
        "In practice, the functional API is used more frequently than the sequential model API, since it is more suitable for simple networks."
      ]
    },
    {
      "cell_type": "markdown",
      "metadata": {
        "id": "myN8aocVVaKv"
      },
      "source": [
        "### Example on a fully connected network\n",
        "\n",
        "*The Sequential model API would actually be completely sufficient for this simple network, but you can better understand the API using such an example.*\n",
        "\n",
        "A `layer` instance is callable on a` tensor`. The return is an input tensor and an output tensor. This can be used to define a model, just like in the *sequentiall model API*.\n",
        "\n",
        "**Import:**\n",
        "```python\n",
        "from keras.layers import Input, Dense\n",
        "from keras.models import Model\n",
        "```\n",
        "**Define input:**\n",
        "```python\n",
        "# returns tensor\n",
        "inputs = Input(shape=(784,))\n",
        "```\n",
        "**Calling `layer`-instances**:\n",
        "* we can combine any layers here\n",
        "\n",
        "```python\n",
        "# a layer can be called up on a tensor and returns a tensor\n",
        "output_1 = Dense(64, activation='linear')(inputs)\n",
        "output_2 = Dense(64, activation='linear')(output_1)\n",
        "predictions = Dense(10, activation='linear')(output_2)\n",
        "```\n",
        "**Create model:**\n",
        "```python\n",
        "# Creates a model with one input layer and three \"dense\" layers\n",
        "model = Model(inputs=inputs, outputs=predictions)\n",
        "```\n",
        "**Configure model**:\n",
        "```python\n",
        "model.compile(optimizer='', loss='', metrics=[''])\n",
        "```\n",
        "**Train model**:\n",
        "\n",
        "```python\n",
        "model.fit(data, labels)  # beginnt Training\n",
        "```\n"
      ]
    },
    {
      "cell_type": "markdown",
      "metadata": {
        "id": "Sd8JoU1LZFZE"
      },
      "source": [
        "### Reuse of models\n",
        "All `models` are accessible, as is `layer`\n",
        "\n",
        "This makes it very easy to reuse models with the functional API:\n",
        "* a `model` can be treated like a `layer` and called on a `tensor`\n",
        "\n",
        "**Note:** You not only use the structure of the model, but also the weights!\n",
        "\n",
        "```python\n",
        "x = Input(shape=(784,))\n",
        "y = model(x)\n",
        "```\n",
        "\n",
        "**Advantage:** You can build models very quickly that receive various inputs."
      ]
    }
  ]
}