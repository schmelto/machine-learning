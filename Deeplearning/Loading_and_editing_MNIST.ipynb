{
  "nbformat": 4,
  "nbformat_minor": 0,
  "metadata": {
    "kernelspec": {
      "display_name": "Python 3",
      "language": "python",
      "name": "python3"
    },
    "language_info": {
      "codemirror_mode": {
        "name": "ipython",
        "version": 3
      },
      "file_extension": ".py",
      "mimetype": "text/x-python",
      "name": "python",
      "nbconvert_exporter": "python",
      "pygments_lexer": "ipython3",
      "version": "3.6.7"
    },
    "colab": {
      "name": "Loading and editing MNIST",
      "provenance": [],
      "collapsed_sections": [],
      "include_colab_link": true
    }
  },
  "cells": [
    {
      "cell_type": "markdown",
      "metadata": {
        "id": "view-in-github",
        "colab_type": "text"
      },
      "source": [
        "<a href=\"https://colab.research.google.com/github/schmelto/machine-learning/blob/main/Deeplearning/Loading_and_editing_MNIST.ipynb\" target=\"_parent\"><img src=\"https://colab.research.google.com/assets/colab-badge.svg\" alt=\"Open In Colab\"/></a>"
      ]
    },
    {
      "cell_type": "markdown",
      "metadata": {
        "id": "ASB7GEbEAWU0"
      },
      "source": [
        "# Loading and editing MNIST"
      ]
    },
    {
      "cell_type": "markdown",
      "metadata": {
        "id": "0_tJ50Q4oYVd"
      },
      "source": [
        "## Import from TensorFlow, Keras and Numpy"
      ]
    },
    {
      "cell_type": "markdown",
      "metadata": {
        "id": "2ry8YzVtIcVb"
      },
      "source": [
        "Before we can use the full functionality of NumPy, we first have to import the library. With the abbreviation \"as\" we give numpy a \"nickname\" and from now on we can write `np.some_function ()` for all functions of Numpy.\n",
        "\n",
        "Keras offers us an easy way to load the MNIST data set, since this is already integrated as one of the data sets in Keras."
      ]
    },
    {
      "cell_type": "code",
      "metadata": {
        "id": "jRgFh5ThoqMJ"
      },
      "source": [
        "import numpy as np\n",
        "import tensorflow as tf\n",
        "from tensorflow import keras"
      ],
      "execution_count": 1,
      "outputs": []
    },
    {
      "cell_type": "markdown",
      "metadata": {
        "id": "F9VGilB3AWU7"
      },
      "source": [
        "## Load MNIST data set"
      ]
    },
    {
      "cell_type": "markdown",
      "metadata": {
        "id": "iNVg9t90JuYl"
      },
      "source": [
        "We can easily define our data by specifying the data record and load it with a simple function.\n",
        "We get 2 different tuples back from the function, on the one hand the training data (images + label) and on the other hand the test data (also images + label)."
      ]
    },
    {
      "cell_type": "code",
      "metadata": {
        "id": "c0JkHkQOgNS8",
        "colab": {
          "base_uri": "https://localhost:8080/"
        },
        "outputId": "748fc4ab-85ec-45af-fcfd-7c31e53c5832"
      },
      "source": [
        "# Specify the record\n",
        "data = keras.datasets.mnist\n",
        "\n",
        "# Download data set, split the data into test and training data\n",
        "(train_images, train_labels), (test_images, test_labels) = data.load_data()"
      ],
      "execution_count": 2,
      "outputs": [
        {
          "output_type": "stream",
          "text": [
            "Downloading data from https://storage.googleapis.com/tensorflow/tf-keras-datasets/mnist.npz\n",
            "11493376/11490434 [==============================] - 0s 0us/step\n"
          ],
          "name": "stdout"
        }
      ]
    },
    {
      "cell_type": "markdown",
      "metadata": {
        "id": "xk6IB92vgZWm"
      },
      "source": [
        "In the following we want to display the size of the loaded data\n",
        "- Loaded data are numpy arrays\n",
        "   - 3D matrices\n",
        "- 60,000 and 10,000 images of size $28\\cdot8=784$ pixels"
      ]
    },
    {
      "cell_type": "code",
      "metadata": {
        "id": "pgvfOy_rgjop",
        "colab": {
          "base_uri": "https://localhost:8080/"
        },
        "outputId": "35b653f0-b098-45da-e5bd-1648d07fd3d2"
      },
      "source": [
        "# Size of the training data (length, height and depth of the numpy array)\n",
        "print(train_images.shape)\n",
        "# Size of the test data (length, height and depth of the numpy array)\n",
        "print(test_images.shape)"
      ],
      "execution_count": 3,
      "outputs": [
        {
          "output_type": "stream",
          "text": [
            "(60000, 28, 28)\n",
            "(10000, 28, 28)\n"
          ],
          "name": "stdout"
        }
      ]
    },
    {
      "cell_type": "markdown",
      "metadata": {
        "id": "1QgACuLB9pxh"
      },
      "source": [
        "The pixels are values from 0 to 255. We want to validate this below."
      ]
    },
    {
      "cell_type": "code",
      "metadata": {
        "id": "KTbR4JT59dDc",
        "colab": {
          "base_uri": "https://localhost:8080/"
        },
        "outputId": "36664092-dd70-453a-d33b-87383b07f7de"
      },
      "source": [
        "# Minima and maxima of the matrix\n",
        "print(np.min(train_images))\n",
        "print(np.max(train_images))"
      ],
      "execution_count": 4,
      "outputs": [
        {
          "output_type": "stream",
          "text": [
            "0\n",
            "255\n"
          ],
          "name": "stdout"
        }
      ]
    },
    {
      "cell_type": "markdown",
      "metadata": {
        "id": "sbYDPA0CAWVH"
      },
      "source": [
        "## Manipulation of the data\n",
        "If we only need a small section of the data or want to learn with less data, we can reduce the input array."
      ]
    },
    {
      "cell_type": "code",
      "metadata": {
        "id": "GPcRZePcAWVN",
        "colab": {
          "base_uri": "https://localhost:8080/"
        },
        "outputId": "93c26697-4162-4e6b-c193-b003d9a871e9"
      },
      "source": [
        "train_images = train_images[:1000]\n",
        "\n",
        "# Size of the new training data set (length, height and depth of the numpy array)\n",
        "print(train_images.shape)"
      ],
      "execution_count": 5,
      "outputs": [
        {
          "output_type": "stream",
          "text": [
            "(1000, 28, 28)\n"
          ],
          "name": "stdout"
        }
      ]
    },
    {
      "cell_type": "markdown",
      "metadata": {
        "id": "eP5u9t3-AWVi"
      },
      "source": [
        "## Necessary transformation for use in Keras"
      ]
    },
    {
      "cell_type": "markdown",
      "metadata": {
        "id": "QkBtSQrFAWV2"
      },
      "source": [
        "We expect the desired output of the network (label) as a vector of size 10. Each entry in this vector should stand for a number from 0-9. A 5 would therefore contain a 1 in the 6th position and all other values would be 0.\n",
        "\n",
        "The labels from the MNIST data set are just simple numbers at the beginning and must therefore be converted by us:\n",
        "- The picture of the handwritten 5 has the label `5`\n",
        "- However, we want the following value: `[0. 0. 0. 0. 0. 1. 0. 0. 0. 0.] `"
      ]
    },
    {
      "cell_type": "code",
      "metadata": {
        "id": "Sx54OqeaANx6",
        "colab": {
          "base_uri": "https://localhost:8080/"
        },
        "outputId": "74486733-9960-497d-b64e-199338e65625"
      },
      "source": [
        "# Old label is the number of the class\n",
        "# Example: The picture with the handwritten 5 has the label 5\n",
        "print(f\"Label before: {train_labels[0]}\")\n",
        "\n",
        "# Reshaping of the label to a vector\n",
        "# This vector has a 1 at position 5 (starting with 0) and 0 everywhere else\n",
        "\n",
        "# Have 10 classes (numbers from 0-9) and thus 10 neurons for output\n",
        "total_classes = 10\n",
        "# Auxiliary function for carrying out the vectorization\n",
        "train_labels_vectorized = keras.utils.to_categorical(train_labels, total_classes)\n",
        "print(f\"Label afterwards: {train_labels_vectorized[0]}\")"
      ],
      "execution_count": 6,
      "outputs": [
        {
          "output_type": "stream",
          "text": [
            "Label before: 5\n",
            "Label afterwards: [0. 0. 0. 0. 0. 1. 0. 0. 0. 0.]\n"
          ],
          "name": "stdout"
        }
      ]
    },
    {
      "cell_type": "markdown",
      "metadata": {
        "id": "L0ksupUpQQ19"
      },
      "source": [
        "## Display images from the data set\n",
        "\n",
        "The library `matplotlib`, for example, is suitable for a more detailed inspection of this and other data records."
      ]
    },
    {
      "cell_type": "code",
      "metadata": {
        "id": "GSapzH0oQtGm"
      },
      "source": [
        "import matplotlib.pyplot as plt\n",
        "# Magic command for using matplotlib in local jupyter notebooks\n",
        "%matplotlib inline"
      ],
      "execution_count": 7,
      "outputs": []
    },
    {
      "cell_type": "markdown",
      "metadata": {
        "id": "paYbrN0AQymE"
      },
      "source": [
        "We had already made a few small changes to the loaded data. We want to undo this by reloading the data in order to then work with the actual data."
      ]
    },
    {
      "cell_type": "code",
      "metadata": {
        "id": "yb5yFX3bCCb1"
      },
      "source": [
        "# Reload the test and training data\n",
        "(train_images, train_labels), (test_images, test_labels) = data.load_data()"
      ],
      "execution_count": 8,
      "outputs": []
    },
    {
      "cell_type": "markdown",
      "metadata": {
        "id": "y4Vx5DV8Qm7w"
      },
      "source": [
        "We now want to display the individual images of the MNIST data set and an associated legend in order to get a feel for the data.\n",
        "\n",
        "In this way, incorrectly classified images of the network can be displayed later."
      ]
    },
    {
      "cell_type": "code",
      "metadata": {
        "id": "3yU9ph5BQmeH",
        "colab": {
          "base_uri": "https://localhost:8080/",
          "height": 265
        },
        "outputId": "95969ce4-d7b5-443d-ff9e-b19eb9fd2405"
      },
      "source": [
        "plt.imshow(train_images[0])\n",
        "plt.colorbar()\n",
        "plt.show()"
      ],
      "execution_count": 9,
      "outputs": [
        {
          "output_type": "display_data",
          "data": {
            "image/png": "[encoded data removed]",
            "text/plain": [
              "<Figure size 432x288 with 2 Axes>"
            ]
          },
          "metadata": {
            "tags": [],
            "needs_background": "light"
          }
        }
      ]
    },
    {
      "cell_type": "markdown",
      "metadata": {
        "id": "zohFfy_6BxE3"
      },
      "source": [
        "We want normalized pixel values between 0 and 1 for training our network. We achieve this by dividing each entry in the `train_images` by 255."
      ]
    },
    {
      "cell_type": "code",
      "metadata": {
        "id": "pFHyhFIkBwOa"
      },
      "source": [
        "normalized_train_images = train_images / 255"
      ],
      "execution_count": 10,
      "outputs": []
    },
    {
      "cell_type": "markdown",
      "metadata": {
        "id": "vJ5NZfvacapH"
      },
      "source": [
        "We also want to output the result of normalization and use the legend to see our success."
      ]
    },
    {
      "cell_type": "code",
      "metadata": {
        "id": "CMZP1bzjR3kf",
        "colab": {
          "base_uri": "https://localhost:8080/",
          "height": 269
        },
        "outputId": "21d69db2-49b6-4278-9640-0db974f30309"
      },
      "source": [
        "# We use \"binary\" as the colormap (cmap) because we only want to interpolate between white and black\n",
        "plt.imshow(normalized_train_images[0], cmap=plt.cm.binary)\n",
        "plt.colorbar()\n",
        "plt.show()"
      ],
      "execution_count": 11,
      "outputs": [
        {
          "output_type": "display_data",
          "data": {
            "image/png": "[encoded data removed]",
            "text/plain": [
              "<Figure size 432x288 with 2 Axes>"
            ]
          },
          "metadata": {
            "tags": [],
            "needs_background": "light"
          }
        }
      ]
    },
    {
      "cell_type": "markdown",
      "metadata": {
        "id": "Py6KJncLi9Fk"
      },
      "source": [
        "## edit data record (add noise)\n",
        "\n",
        "We create a matrix of size 28 x 28 with values between 0 and 1 (command should be known from NumPy Video). We want to add the randomly generated matrix to the training image of the same size in order to add noise to the image.\n",
        "\n",
        "Using this noise, we generated a new image that we could use to train our network.\n"
      ]
    },
    {
      "cell_type": "code",
      "metadata": {
        "id": "mnqbxSv3jCHd",
        "colab": {
          "base_uri": "https://localhost:8080/",
          "height": 265
        },
        "outputId": "2a69c287-7698-4838-f5c9-1ab25081bbbf"
      },
      "source": [
        "# Noise can be chosen arbitrarily by choosing the random generator\n",
        "noise_matrix = np.random.random((28,28))\n",
        "# Adding the matrix with noise to the original matrix\n",
        "new_train_data = normalized_train_images[1] + noise_matrix\n",
        "# Show new picture\n",
        "plt.imshow(new_train_data, cmap=plt.cm.binary)\n",
        "plt.show()"
      ],
      "execution_count": 12,
      "outputs": [
        {
          "output_type": "display_data",
          "data": {
            "image/png": "[encoded data removed]",
            "text/plain": [
              "<Figure size 432x288 with 1 Axes>"
            ]
          },
          "metadata": {
            "tags": [],
            "needs_background": "light"
          }
        }
      ]
    },
    {
      "cell_type": "markdown",
      "metadata": {
        "id": "6rV2kKPmm4ss"
      },
      "source": [
        "## Generate data record values"
      ]
    },
    {
      "cell_type": "markdown",
      "metadata": {
        "id": "jV4bc9MtcvvB"
      },
      "source": [
        "Another option for editing (expanding) the data record is to use transposition.\n",
        "`new_train_data = train_images[1].T` creates a 0 mirrored on the diagonal, which should still be classified as 0, but looks different due to the mirroring.\n",
        "\n",
        "The function `np.rot90` enables us to rotate pictures by multiples of 90° and in this way generate new data. A 0 that has been rotated 180°, i.e. is upside down, should still be classified as a 0."
      ]
    },
    {
      "cell_type": "code",
      "metadata": {
        "id": "gltAdVh_UjWC",
        "colab": {
          "base_uri": "https://localhost:8080/",
          "height": 265
        },
        "outputId": "87d0a541-9a0d-413f-82f9-4e9aa19a9f89"
      },
      "source": [
        "# 2-fold rotation by 90° (upside down 0)\n",
        "flipped_zero = np.rot90(normalized_train_images[1])\n",
        "flipped_zero = np.rot90(flipped_zero)\n",
        "\n",
        "# Show new picture\n",
        "plt.imshow(flipped_zero, cmap=plt.cm.binary)\n",
        "plt.show()"
      ],
      "execution_count": 13,
      "outputs": [
        {
          "output_type": "display_data",
          "data": {
            "image/png": "[encoded data removed]",
            "text/plain": [
              "<Figure size 432x288 with 1 Axes>"
            ]
          },
          "metadata": {
            "tags": [],
            "needs_background": "light"
          }
        }
      ]
    },
    {
      "cell_type": "markdown",
      "metadata": {
        "id": "af3GZUuSDGu2"
      },
      "source": [
        "Then we want to attach the newly generated image to the existing data record.\n",
        "For this, both nd arrays, which we attach to each other, must have the same dimension (size). So we shape flipped_zero from a 2D array to a 3D array."
      ]
    },
    {
      "cell_type": "code",
      "metadata": {
        "id": "bm5yo8JoUp7L",
        "colab": {
          "base_uri": "https://localhost:8080/"
        },
        "outputId": "543825b5-d726-450e-97ef-e1f51cd2bde4"
      },
      "source": [
        "# flipped_zero wird zu Array der Länge 1 mit einer 28x28 Matrix\n",
        "flipped_zero = flipped_zero.reshape(1,28,28)\n",
        "\n",
        "# Damit können wir das 1x28x28 flipped_zero Array mit dem 60000x28x28 train_images Array zusammenfügen\n",
        "extended_train_images = np.append(normalized_train_images, flipped_zero, axis=0)\n",
        "print(extended_train_images.shape)"
      ],
      "execution_count": 14,
      "outputs": [
        {
          "output_type": "stream",
          "text": [
            "(60001, 28, 28)\n"
          ],
          "name": "stdout"
        }
      ]
    }
  ]
}