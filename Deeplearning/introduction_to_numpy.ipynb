{
  "nbformat": 4,
  "nbformat_minor": 0,
  "metadata": {
    "colab": {
      "name": "introduction-to-numpy",
      "provenance": [],
      "collapsed_sections": [
        "j0YevGv1boFP"
      ],
      "include_colab_link": true
    },
    "kernelspec": {
      "name": "python3",
      "display_name": "Python 3"
    }
  },
  "cells": [
    {
      "cell_type": "markdown",
      "metadata": {
        "id": "view-in-github",
        "colab_type": "text"
      },
      "source": [
        "<a href=\"https://colab.research.google.com/github/schmelto/machine-learning/blob/main/Deeplearning/introduction_to_numpy.ipynb\" target=\"_parent\"><img src=\"https://colab.research.google.com/assets/colab-badge.svg\" alt=\"Open In Colab\"/></a>"
      ]
    },
    {
      "cell_type": "markdown",
      "metadata": {
        "id": "xw2krrn8bnVg"
      },
      "source": [
        "# Introduction to Numpy\n"
      ]
    },
    {
      "cell_type": "markdown",
      "metadata": {
        "id": "fpe31TYjaKDR"
      },
      "source": [
        "## Import Numpy"
      ]
    },
    {
      "cell_type": "markdown",
      "metadata": {
        "id": "jn1E2ATCgGYA"
      },
      "source": [
        "Before we can use the full functionality of NumPy, we first have to import the library. With the abbreviation \"as\" we give numpy a \"nickname\" and from now on we can write np.some_function () for all functions of Numpy."
      ]
    },
    {
      "cell_type": "code",
      "metadata": {
        "id": "gZABmMcyZwAh"
      },
      "source": [
        "import numpy as np"
      ],
      "execution_count": 1,
      "outputs": []
    },
    {
      "cell_type": "markdown",
      "metadata": {
        "id": "_BRKWjpqgQvP"
      },
      "source": [
        "## Numpy functionalities"
      ]
    },
    {
      "cell_type": "markdown",
      "metadata": {
        "id": "cJMNS0BUaRKP"
      },
      "source": [
        "### Create a vector\n",
        "\n",
        "A vector in Numpy is represented as an array. Here, a horizontal vector is a 1-dimensional and a vertical vector is a 2-dimensional vector.\n",
        "\n",
        "The function `np.array ()` creates this multidimensional numpy array (ndarray)."
      ]
    },
    {
      "cell_type": "code",
      "metadata": {
        "id": "Evwz2S9ZaTju",
        "colab": {
          "base_uri": "https://localhost:8080/"
        },
        "outputId": "e7777a8e-5de8-4eab-9e7c-83553d1a1087"
      },
      "source": [
        "vector_row = np.array([1,2,3]) # Horizontal vector (1D)\n",
        "vector_column = np.array([[1],[2],[3]]) # Vertical vector (2D and thus n x 1 matrix)\n",
        "print(vector_row)\n",
        "print(vector_column)"
      ],
      "execution_count": 2,
      "outputs": [
        {
          "output_type": "stream",
          "text": [
            "[1 2 3]\n",
            "[[1]\n",
            " [2]\n",
            " [3]]\n"
          ],
          "name": "stdout"
        }
      ]
    },
    {
      "cell_type": "markdown",
      "metadata": {
        "id": "s34p4I6-aV5e"
      },
      "source": [
        "### Create a matrix\n",
        "\n",
        "A matrix is also a multi-dimensional array.\n",
        "\n",
        "Here, too, this is generated with the `np.array ()` function, whereby the number of nestings (array in an array) represents the dimension of the matrix."
      ]
    },
    {
      "cell_type": "code",
      "metadata": {
        "id": "UE3CB7y0aYZf",
        "colab": {
          "base_uri": "https://localhost:8080/"
        },
        "outputId": "8a2fe21d-faa9-4827-8c8c-c5a5c3d05659"
      },
      "source": [
        "matrix = np.array([[1,2,3],[4,5,6]])\n",
        "print(matrix)"
      ],
      "execution_count": 3,
      "outputs": [
        {
          "output_type": "stream",
          "text": [
            "[[1 2 3]\n",
            " [4 5 6]]\n"
          ],
          "name": "stdout"
        }
      ]
    },
    {
      "cell_type": "markdown",
      "metadata": {
        "id": "P2CdK2V1abqf"
      },
      "source": [
        "### Helpful initializations of an array\r\n",
        "\r\n",
        "The arrays can be easily filled with data using a few functions.\r\n",
        "\r\n",
        "Here `np.arrange ()` and `np.linspace ()` offer different approaches to create an array with a specific interval."
      ]
    },
    {
      "cell_type": "code",
      "metadata": {
        "id": "xyGHC4qMakdX",
        "colab": {
          "base_uri": "https://localhost:8080/"
        },
        "outputId": "bc5201db-38ae-43fc-ad37-9e30fe00f693"
      },
      "source": [
        "# Values from 0 to 30 (exclusive) with step size 2\n",
        "range_with_fixed_interval = np.arange(0, 30, 2)\n",
        "print(f\"Vektor with arange:\\n{range_with_fixed_interval} \\n\")\n",
        "\n",
        "# 9 evenly distributed values between 0 and 4\n",
        "equally_spaced_range = np.linspace(0, 4, 9)\n",
        "print(f\"Vektor with linspace:\\n{equally_spaced_range} \\n\")"
      ],
      "execution_count": 4,
      "outputs": [
        {
          "output_type": "stream",
          "text": [
            "Vektor with arange:\n",
            "[ 0  2  4  6  8 10 12 14 16 18 20 22 24 26 28] \n",
            "\n",
            "Vektor with linspace:\n",
            "[0.  0.5 1.  1.5 2.  2.5 3.  3.5 4. ] \n",
            "\n"
          ],
          "name": "stdout"
        }
      ]
    },
    {
      "cell_type": "markdown",
      "metadata": {
        "id": "aGahon6kap3G"
      },
      "source": [
        "### Helpful initializations of a matrix\r\n",
        "\r\n",
        "There are also clearly defined functions for creating special matrices.\r\n",
        "\r\n",
        "An identity matrix or a matrix of any size, which consists exclusively of ones or zeros, can be created very easily."
      ]
    },
    {
      "cell_type": "code",
      "metadata": {
        "id": "scFSN5Abas3P",
        "colab": {
          "base_uri": "https://localhost:8080/"
        },
        "outputId": "792c6860-571a-4790-b554-1842d83a9f47"
      },
      "source": [
        "matrix_id = np.eye(3)           # 3 x 3 identity matrix\n",
        "matrix_ones = np.ones((3, 2))   # Matrix of ones\n",
        "matrix_zeros = np.zeros((3, 2)) # Matrix of zeros\n",
        "print(f\"identity matrix:\\n{matrix_id} \\n\")\n",
        "print(f\"Ones matrix:\\n{matrix_ones} \\n\")\n",
        "print(f\"Zeros matrix:\\n{matrix_zeros} \\n\")"
      ],
      "execution_count": 5,
      "outputs": [
        {
          "output_type": "stream",
          "text": [
            "identity matrix:\n",
            "[[1. 0. 0.]\n",
            " [0. 1. 0.]\n",
            " [0. 0. 1.]] \n",
            "\n",
            "Ones matrix:\n",
            "[[1. 1.]\n",
            " [1. 1.]\n",
            " [1. 1.]] \n",
            "\n",
            "Zeros matrix:\n",
            "[[0. 0.]\n",
            " [0. 0.]\n",
            " [0. 0.]] \n",
            "\n"
          ],
          "name": "stdout"
        }
      ]
    },
    {
      "cell_type": "markdown",
      "metadata": {
        "id": "Jz2wc9ywau5u"
      },
      "source": [
        "#### Access to elements of a multi-dimensional array\r\n",
        "\r\n",
        "Access to the individual elements works as shown below and is probably also known from other programming languages.\r\n",
        "\r\n",
        "Using the :-notation, a certain area of the array can be easily queried by specifying a start and end index.\r\n",
        "In the case of the index with negative numbers, the array goes through its values in the reverse order."
      ]
    },
    {
      "cell_type": "code",
      "metadata": {
        "id": "ppVNVWzca0Ef",
        "colab": {
          "base_uri": "https://localhost:8080/"
        },
        "outputId": "6fab5af0-bdbd-4027-ceb0-df19731d70a6"
      },
      "source": [
        "vector = np.array([1,2,3])\n",
        "matrix = np.array([[1,2,3],[4,5,6]])\n",
        "print(f\"Vektor: {vector}\")\n",
        "print(f\"Matrix:\\n{matrix}\")\n",
        "\n",
        "# The 3rd element of the vector\n",
        "print(f\"\\nThe 3rd element of the vector: {vector[2]}\")\n",
        "\n",
        "# The 2nd element in the 2nd row of the matrix\n",
        "print(f\"\\nThe 2nd element in the 2nd row of the matrix: {matrix[1,1]}\")\n",
        "\n",
        "# All elements up to and including the 2nd element\n",
        "print(f\"\\nAll elements up to and including the 2nd element of the vector: {vector[:2]}\")\n",
        "\n",
        "# Everything from the 3rd element\n",
        "print(f\"\\nEverything from the 3rd element of the vector: {vector[3:]}\")\n",
        "\n",
        "# All elements of the vector\n",
        "print(f\"\\nAll elements of the vector: {vector[:]}\")\n",
        "\n",
        "# The last element (same result as vector [len (vector) -1])\n",
        "print(f\"\\nThe last element of the vector: {vector[-1]}\")"
      ],
      "execution_count": 6,
      "outputs": [
        {
          "output_type": "stream",
          "text": [
            "Vektor: [1 2 3]\n",
            "Matrix:\n",
            "[[1 2 3]\n",
            " [4 5 6]]\n",
            "\n",
            "The 3rd element of the vector: 3\n",
            "\n",
            "The 2nd element in the 2nd row of the matrix: 5\n",
            "\n",
            "All elements up to and including the 2nd element of the vector: [1 2]\n",
            "\n",
            "Everything from the 3rd element of the vector: []\n",
            "\n",
            "All elements of the vector: [1 2 3]\n",
            "\n",
            "The last element of the vector: 3\n"
          ],
          "name": "stdout"
        }
      ]
    },
    {
      "cell_type": "markdown",
      "metadata": {
        "id": "6xPS5dUWa1t2"
      },
      "source": [
        "### Properties of a matrix"
      ]
    },
    {
      "cell_type": "code",
      "metadata": {
        "id": "tDNB8fd3a4tO",
        "colab": {
          "base_uri": "https://localhost:8080/"
        },
        "outputId": "98c14000-0cf8-4754-cd89-61d3a4dabdd7"
      },
      "source": [
        "matrix = np.array([[1,2,3],[4,5,6]])\n",
        "print(f\"Matrix:\\n{matrix}\")\n",
        "\n",
        "# Number of rows and columns\n",
        "print(f\"\\nShape of the matrix (number of rows and columns): {matrix.shape}\")\n",
        "\n",
        "# Number of elements (rows * columns)\n",
        "print(f\"\\nNumber of elements (rows * columns): {matrix.size}\")\n",
        "\n",
        "# Number of dimensions\n",
        "print(f\"\\nDimension of the matrix: {matrix.ndim}\")"
      ],
      "execution_count": 7,
      "outputs": [
        {
          "output_type": "stream",
          "text": [
            "Matrix:\n",
            "[[1 2 3]\n",
            " [4 5 6]]\n",
            "\n",
            "Shape of the matrix (number of rows and columns): (2, 3)\n",
            "\n",
            "Number of elements (rows * columns): 6\n",
            "\n",
            "Dimension of the matrix: 2\n"
          ],
          "name": "stdout"
        }
      ]
    },
    {
      "cell_type": "markdown",
      "metadata": {
        "id": "QWgranIWa7f3"
      },
      "source": [
        "### Transformations on matrices\r\n",
        "\r\n",
        "As shown in some examples in the next line, numpy arrays can be transformed into a different shape (different shape) relatively easily.\r\n",
        "\r\n",
        "The only thing that has to be ensured here is that the elements of the new form still have the same number of elements as the old form.\r\n",
        "\r\n",
        "The matrix does not save the new form, it must be done with a new variable assignment.\r\n",
        "\r\n",
        "`matrix.T` is a special type of transformation and reflects the values on the diagonal (transposed matrix)"
      ]
    },
    {
      "cell_type": "code",
      "metadata": {
        "id": "nd1cGsIZbB_H",
        "colab": {
          "base_uri": "https://localhost:8080/"
        },
        "outputId": "94b2e04e-b73a-4e5f-f3e6-4574b80440ad"
      },
      "source": [
        "matrix = np.array([[1,2,3,4],[5,6,7,8],[9,10,11,12]])\n",
        "print(f\"Matrix:\\n{matrix}\")\n",
        "\n",
        "print(f\"\\nReshaped (12x1):\\n{matrix.reshape(12,1)}\")\n",
        "\n",
        "print(f\"\\nReshaped (1x12):\\n{matrix.reshape(1,12)}\")\n",
        "\n",
        "print(f\"\\nReshaped (2x6):\\n{matrix.reshape(2,6)}\")\n",
        "\n",
        "print(f\"\\nReshaped (1 row with as many columns as necessary (-1)):\\n{matrix.reshape(1,-1)}\")\n",
        "\n",
        "print(f\"\\nFlattened (Conversion to a non-nested 1D array):\\n{matrix.flatten()}\")\n",
        "\n",
        "print(f\"\\nTransponiert (Reflection on the diagonal):\\n{matrix.T}\")"
      ],
      "execution_count": 8,
      "outputs": [
        {
          "output_type": "stream",
          "text": [
            "Matrix:\n",
            "[[ 1  2  3  4]\n",
            " [ 5  6  7  8]\n",
            " [ 9 10 11 12]]\n",
            "\n",
            "Reshaped (12x1):\n",
            "[[ 1]\n",
            " [ 2]\n",
            " [ 3]\n",
            " [ 4]\n",
            " [ 5]\n",
            " [ 6]\n",
            " [ 7]\n",
            " [ 8]\n",
            " [ 9]\n",
            " [10]\n",
            " [11]\n",
            " [12]]\n",
            "\n",
            "Reshaped (1x12):\n",
            "[[ 1  2  3  4  5  6  7  8  9 10 11 12]]\n",
            "\n",
            "Reshaped (2x6):\n",
            "[[ 1  2  3  4  5  6]\n",
            " [ 7  8  9 10 11 12]]\n",
            "\n",
            "Reshaped (1 row with as many columns as necessary (-1)):\n",
            "[[ 1  2  3  4  5  6  7  8  9 10 11 12]]\n",
            "\n",
            "Flattened (Conversion to a non-nested 1D array):\n",
            "[ 1  2  3  4  5  6  7  8  9 10 11 12]\n",
            "\n",
            "Transponiert (Reflection on the diagonal):\n",
            "[[ 1  5  9]\n",
            " [ 2  6 10]\n",
            " [ 3  7 11]\n",
            " [ 4  8 12]]\n"
          ],
          "name": "stdout"
        }
      ]
    },
    {
      "cell_type": "markdown",
      "metadata": {
        "id": "zTQFxYd_bQ_H"
      },
      "source": [
        "### Dot product\r\n",
        "\r\n",
        "The dot operator (or @) forms the well-known dot product of 2 vectors."
      ]
    },
    {
      "cell_type": "code",
      "metadata": {
        "id": "WfZVXuDPbS7v",
        "colab": {
          "base_uri": "https://localhost:8080/"
        },
        "outputId": "1a50f438-5d30-48df-84d6-5a89908fe325"
      },
      "source": [
        "vector1 = np.array([1,2,3])\n",
        "vector2 = np.array([1,1,1])\n",
        "print(f\"Vector1: {vector1}\")\n",
        "print(f\"Vector2: {vector2}\")\n",
        "\n",
        "# Dot product\n",
        "print(f\"\\nDot product = {np.dot(vector1,vector2)}\")\n",
        "\n",
        "# Dot product can also be written with the @ operator\n",
        "# vector1 @ vector2"
      ],
      "execution_count": 9,
      "outputs": [
        {
          "output_type": "stream",
          "text": [
            "Vector1: [1 2 3]\n",
            "Vector2: [1 1 1]\n",
            "\n",
            "Dot product = 6\n"
          ],
          "name": "stdout"
        }
      ]
    },
    {
      "cell_type": "markdown",
      "metadata": {
        "id": "mGYiuvgabD5X"
      },
      "source": [
        "### Arithmetic operations of matrices\n",
        "\n",
        "The element-based operations work, as the name suggests, on the individual elements. The 1st element of one matrix is offset against the 1st element of the other matrix, etc.\n",
        "\n",
        "The classic matrix multiplication works with the dot operator, which normally forms the dot product of 2 vectors.\n",
        "To do this, the calculated matrices only have to be brought into the correct form so that the columns of the first matrix match the rows of the second matrix."
      ]
    },
    {
      "cell_type": "code",
      "metadata": {
        "id": "A7jwryfHbOW3",
        "colab": {
          "base_uri": "https://localhost:8080/"
        },
        "outputId": "39ad04c1-7f58-4a68-fde1-e11db9f90264"
      },
      "source": [
        "matrix1 = np.array([[1,2,3],[4,5,6]])\n",
        "matrix2 = np.array([[2,2,2],[2,2,2]])\n",
        "print(f\"Matrix1:\\n{matrix1}\")\n",
        "print(f\"\\nMatrix2:\\n{matrix2}\")\n",
        "\n",
        "# Addition by element\n",
        "print(f\"\\nmatrix1 + matrix2 =\\n{matrix1 + matrix2}\")\n",
        "\n",
        "# Subtraction by element\n",
        "print(f\"\\nmatrix1 - matrix2 =\\n{matrix1 - matrix2}\")\n",
        "\n",
        "# Multiplication by element\n",
        "print(f\"\\nmatrix1 * matrix2 =\\n{matrix1 * matrix2}\")\n",
        "\n",
        "# Division by element\n",
        "print(f\"\\nmatrix1 / matrix2 =\\n{matrix1 / matrix2}\")\n",
        "\n",
        "# Matrix multiplication (only possible for (n x m) matrix * (m x l) matrix)\n",
        "# Reshape needs to be done\n",
        "dot = np.dot(matrix1.reshape(3,2),matrix2)\n",
        "print(f\"\\nMatrix multiplication =\\n{dot}\")"
      ],
      "execution_count": 10,
      "outputs": [
        {
          "output_type": "stream",
          "text": [
            "Matrix1:\n",
            "[[1 2 3]\n",
            " [4 5 6]]\n",
            "\n",
            "Matrix2:\n",
            "[[2 2 2]\n",
            " [2 2 2]]\n",
            "\n",
            "matrix1 + matrix2 =\n",
            "[[3 4 5]\n",
            " [6 7 8]]\n",
            "\n",
            "matrix1 - matrix2 =\n",
            "[[-1  0  1]\n",
            " [ 2  3  4]]\n",
            "\n",
            "matrix1 * matrix2 =\n",
            "[[ 2  4  6]\n",
            " [ 8 10 12]]\n",
            "\n",
            "matrix1 / matrix2 =\n",
            "[[0.5 1.  1.5]\n",
            " [2.  2.5 3. ]]\n",
            "\n",
            "Matrix multiplication =\n",
            "[[ 6  6  6]\n",
            " [14 14 14]\n",
            " [22 22 22]]\n"
          ],
          "name": "stdout"
        }
      ]
    },
    {
      "cell_type": "markdown",
      "metadata": {
        "id": "I5bKMRAhbdVw"
      },
      "source": [
        "### Applying functions to multiple elements\n",
        "\n",
        "With the help of the `lambda` operator, anonymous functions, i.e. Functions without names are created. You can have any number of parameters, execute an expression, and return the value of this expression as a return value.\n",
        "\n",
        "If the function receives a multidimensional numpy array, it operates on all elements separately."
      ]
    },
    {
      "cell_type": "code",
      "metadata": {
        "id": "wWVu37dJbgrI",
        "colab": {
          "base_uri": "https://localhost:8080/",
          "height": 69
        },
        "outputId": "90c1820e-e2cd-49e7-cef4-03886ebf1b45"
      },
      "source": [
        "matrix = np.array([[1,2,3],[4,5,6],[7,8,9]])\n",
        "\n",
        "# A lambda expression that adds the input to 100 and implicitly returned\n",
        "add_100 = lambda i: i+100\n",
        "\n",
        "# Function application to all elements of the matrix\n",
        "matrix = add_100(matrix)\n",
        "print(matrix)"
      ],
      "execution_count": null,
      "outputs": [
        {
          "output_type": "stream",
          "text": [
            "[[101 102 103]\n",
            " [104 105 106]\n",
            " [107 108 109]]\n"
          ],
          "name": "stdout"
        }
      ]
    },
    {
      "cell_type": "markdown",
      "metadata": {
        "id": "j0YevGv1boFP"
      },
      "source": [
        "### Calculate mean, standard deviation, and variance\r\n",
        "\r\n",
        "Numpy also offers some statistical functions, which are initially not relevant for our purposes."
      ]
    },
    {
      "cell_type": "code",
      "metadata": {
        "id": "OU0ouqp-bter",
        "colab": {
          "base_uri": "https://localhost:8080/"
        },
        "outputId": "45e58b9a-7730-45e9-ed4d-a4bdd697b31d"
      },
      "source": [
        "matrix = np.array([[1,2,3],[4,5,6],[7,8,9]])\n",
        "\n",
        "# Statistical mean\n",
        "print(np.mean(matrix))\n",
        "\n",
        "# Standard deviation\n",
        "print(np.std(matrix))\n",
        "\n",
        "# Variance\n",
        "print(np.var(matrix))"
      ],
      "execution_count": 11,
      "outputs": [
        {
          "output_type": "stream",
          "text": [
            "5.0\n",
            "2.581988897471611\n",
            "6.666666666666667\n"
          ],
          "name": "stdout"
        }
      ]
    },
    {
      "cell_type": "markdown",
      "metadata": {
        "id": "VqcRDd2HbjBv"
      },
      "source": [
        "### Calculation of random values\n",
        "\n",
        "We always want to receive the same pseudo-random sequence of values, whereupon we \"seed\" the random number generator.\n",
        "Executing the cell multiple times therefore always returns the same elements, which would not be the case without `np.random.seed (1)`."
      ]
    },
    {
      "cell_type": "code",
      "metadata": {
        "id": "X47xFEMHblT3",
        "colab": {
          "base_uri": "https://localhost:8080/"
        },
        "outputId": "d440d96e-b774-404b-efed-efa1c3fe8df7"
      },
      "source": [
        "# Seed the generator to get reproducible output\n",
        "np.random.seed(1)\n",
        "\n",
        "# Generates 3 random integers between 0 and 10\n",
        "print(np.random.randint(0,11,3))\n",
        "\n",
        "# Generates a random 2x2 matrix\n",
        "# The values of the matrix are floats of a normal distribution with mean 0 and variance 1\n",
        "print(np.random.randn(2, 2))\n",
        "\n",
        "# 3 Numbers from a normal distribution with mean 1 and variance 2\n",
        "print(np.random.normal(1.0, 2.0, 3))"
      ],
      "execution_count": 13,
      "outputs": [
        {
          "output_type": "stream",
          "text": [
            "[5 8 9]\n",
            "[[-0.80217284 -0.44887781]\n",
            " [-1.10593508 -1.65451545]]\n",
            "[-3.72693721  3.2706907  -1.03402827]\n"
          ],
          "name": "stdout"
        }
      ]
    },
    {
      "cell_type": "markdown",
      "metadata": {
        "id": "ECDfqyAvb8Yg"
      },
      "source": [
        "### Change data type"
      ]
    },
    {
      "cell_type": "code",
      "metadata": {
        "id": "jh3dLXHAdd4W",
        "colab": {
          "base_uri": "https://localhost:8080/"
        },
        "outputId": "f04c20a6-59bf-4a6f-9daf-15f86a2ec581"
      },
      "source": [
        "matrix = np.array([[1,2,3],[4,5,6],[7,8,9]])\n",
        "\n",
        "# Changes the data type of the elements to floats\n",
        "print(matrix.astype(float))"
      ],
      "execution_count": 14,
      "outputs": [
        {
          "output_type": "stream",
          "text": [
            "[[1. 2. 3.]\n",
            " [4. 5. 6.]\n",
            " [7. 8. 9.]]\n"
          ],
          "name": "stdout"
        }
      ]
    },
    {
      "cell_type": "markdown",
      "metadata": {
        "id": "BSniIDhid8bm"
      },
      "source": [
        "### Concatenate arrays\r\n",
        "\r\n",
        "Using the `append ()` function, vectors can be linked together. If the arrays are of a different data type, the values are converted to the larger data type (e.g. int -> float -> strings)"
      ]
    },
    {
      "cell_type": "code",
      "metadata": {
        "id": "YEVLhmE5d_01",
        "colab": {
          "base_uri": "https://localhost:8080/",
          "height": 34
        },
        "outputId": "f1504633-55e9-4393-d936-ec13b8a9b661"
      },
      "source": [
        "vector1 = np.array([1,2,3])\n",
        "vector2 = np.array([4,5,6])\n",
        "\n",
        "# Concatenate arrays\n",
        "print(np.append(vector1, vector2))\n",
        "\n",
        "# Alternativ concatenate\n",
        "# np.concatenate((vector1, vector2))"
      ],
      "execution_count": null,
      "outputs": [
        {
          "output_type": "stream",
          "text": [
            "[1 2 3 4 5 6]\n"
          ],
          "name": "stdout"
        }
      ]
    },
    {
      "cell_type": "markdown",
      "metadata": {
        "id": "ii7KL7COby3Y"
      },
      "source": [
        "### Finding minimum and maximum\r\n",
        "\r\n",
        "The names of the functions `min ()` and `max ()` are very clear, whereas `argmax ()` and `argmin ()` stand for the indices of these elements.\r\n",
        "\r\n",
        "By specifying an axis, the corresponding elements are described along this axis (with 0 the maximum elements in the columns and with 1 the maximum elements in the rows)."
      ]
    },
    {
      "cell_type": "code",
      "metadata": {
        "id": "shMPGf4kb1sY",
        "colab": {
          "base_uri": "https://localhost:8080/"
        },
        "outputId": "ee6d6331-8f1a-4ad2-d234-b49a0de5461a"
      },
      "source": [
        "matrix = np.array([[1,4,3],[34,7,6],[27,18,9]])\n",
        "print(matrix)\n",
        "\n",
        "# Maximum element\n",
        "print(f\"\\nMax: {np.max(matrix)}\")\n",
        "\n",
        "# Minimal element\n",
        "print(f\"Min: {np.max(matrix)}\")\n",
        "\n",
        "# The indexes of the maximum elements along an axis\n",
        "print(f\"Indexes of the maximum elements from axis 0: {np.argmax(matrix, axis=0)}\")\n",
        "\n",
        "# Return the maximum element along an axis\n",
        "print(f\"Maximum elements of axis 0: {np.max(matrix,axis=0)}\")"
      ],
      "execution_count": 15,
      "outputs": [
        {
          "output_type": "stream",
          "text": [
            "[[ 1  4  3]\n",
            " [34  7  6]\n",
            " [27 18  9]]\n",
            "\n",
            "Max: 34\n",
            "Min: 34\n",
            "Indexes of the maximum elements from axis 0: [1 2 2]\n",
            "Maximum elements of axis 0: [34 18  9]\n"
          ],
          "name": "stdout"
        }
      ]
    },
    {
      "cell_type": "markdown",
      "metadata": {
        "id": "iAULXUGzb4SI"
      },
      "source": [
        "### matrix diagonal, trace"
      ]
    },
    {
      "cell_type": "code",
      "metadata": {
        "id": "H419PMwKb6Lw",
        "colab": {
          "base_uri": "https://localhost:8080/"
        },
        "outputId": "98e96092-089a-4eff-fb5a-4da9cbffa381"
      },
      "source": [
        "matrix = np.array([[1,4,3],[34,7,6],[27,18,9]])\n",
        "print(matrix)\n",
        "\n",
        "# Main diagonal\n",
        "print(f\"\\nMain diagonal: {matrix.diagonal()}\")\n",
        "\n",
        "# Diagonal above the main diagonal\n",
        "print(f\"Diagonal above the main diagonal: {matrix.diagonal(offset=1)}\")\n",
        "\n",
        "# Trace of the matrix (sum of the elements of the main diagonal)\n",
        "print(f\"Trace: {matrix.trace()}\")"
      ],
      "execution_count": 16,
      "outputs": [
        {
          "output_type": "stream",
          "text": [
            "[[ 1  4  3]\n",
            " [34  7  6]\n",
            " [27 18  9]]\n",
            "\n",
            "Main diagonal: [1 7 9]\n",
            "Diagonal above the main diagonal: [4 6]\n",
            "Trace: 17\n"
          ],
          "name": "stdout"
        }
      ]
    }
  ]
}