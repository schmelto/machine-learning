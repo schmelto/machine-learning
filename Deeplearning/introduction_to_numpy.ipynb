{
  "nbformat": 4,
  "nbformat_minor": 0,
  "metadata": {
    "colab": {
      "name": "introduction-to-numpy",
      "provenance": [],
      "collapsed_sections": [
        "j0YevGv1boFP"
      ],
      "include_colab_link": true
    },
    "kernelspec": {
      "name": "python3",
      "display_name": "Python 3"
    }
  },
  "cells": [
    {
      "cell_type": "markdown",
      "metadata": {
        "id": "view-in-github",
        "colab_type": "text"
      },
      "source": [
        "<a href=\"https://colab.research.google.com/github/schmelto/machine-learning/blob/main/Deeplearning/introduction_to_numpy.ipynb\" target=\"_parent\"><img src=\"https://colab.research.google.com/assets/colab-badge.svg\" alt=\"Open In Colab\"/></a>"
      ]
    },
    {
      "cell_type": "markdown",
      "metadata": {
        "id": "xw2krrn8bnVg"
      },
      "source": [
        "# Introduction to Numpy\n"
      ]
    },
    {
      "cell_type": "markdown",
      "metadata": {
        "id": "fpe31TYjaKDR"
      },
      "source": [
        "## Import Numpy"
      ]
    },
    {
      "cell_type": "markdown",
      "metadata": {
        "id": "jn1E2ATCgGYA"
      },
      "source": [
        "Before we can use the full functionality of NumPy, we first have to import the library. With the abbreviation \"as\" we give numpy a \"nickname\" and from now on we can write np.some_function () for all functions of Numpy."
      ]
    },
    {
      "cell_type": "code",
      "metadata": {
        "id": "gZABmMcyZwAh"
      },
      "source": [
        "import numpy as np"
      ],
      "execution_count": null,
      "outputs": []
    },
    {
      "cell_type": "markdown",
      "metadata": {
        "id": "_BRKWjpqgQvP"
      },
      "source": [
        "## Numpy functionalities"
      ]
    },
    {
      "cell_type": "markdown",
      "metadata": {
        "id": "cJMNS0BUaRKP"
      },
      "source": [
        "### Create a vector\n",
        "\n",
        "A vector in Numpy is represented as an array. Here, a horizontal vector is a 1-dimensional and a vertical vector is a 2-dimensional vector.\n",
        "\n",
        "The function `np.array ()` creates this multidimensional numpy array (ndarray)."
      ]
    },
    {
      "cell_type": "code",
      "metadata": {
        "id": "Evwz2S9ZaTju",
        "colab": {
          "base_uri": "https://localhost:8080/",
          "height": 86
        },
        "outputId": "86dac1ed-5c54-48d1-87b6-a3b056b206ff"
      },
      "source": [
        "vector_row = np.array([1,2,3]) # Horizontaler Vektor (1D)\n",
        "vector_column = np.array([[1],[2],[3]]) # Vertikaler Vektor (2D und somit n x 1 Matrix)\n",
        "print(vector_row)\n",
        "print(vector_column)"
      ],
      "execution_count": null,
      "outputs": [
        {
          "output_type": "stream",
          "text": [
            "[1 2 3]\n",
            "[[1]\n",
            " [2]\n",
            " [3]]\n"
          ],
          "name": "stdout"
        }
      ]
    },
    {
      "cell_type": "markdown",
      "metadata": {
        "id": "s34p4I6-aV5e"
      },
      "source": [
        "### Create a matrix\n",
        "\n",
        "A matrix is also a multi-dimensional array.\n",
        "\n",
        "Here, too, this is generated with the `np.array ()` function, whereby the number of nestings (array in an array) represents the dimension of the matrix."
      ]
    },
    {
      "cell_type": "code",
      "metadata": {
        "id": "UE3CB7y0aYZf",
        "colab": {
          "base_uri": "https://localhost:8080/",
          "height": 51
        },
        "outputId": "7cbe7751-839b-47db-a361-b628bc6ef0c0"
      },
      "source": [
        "matrix = np.array([[1,2,3],[4,5,6]])\n",
        "print(matrix)"
      ],
      "execution_count": null,
      "outputs": [
        {
          "output_type": "stream",
          "text": [
            "[[1 2 3]\n",
            " [4 5 6]]\n"
          ],
          "name": "stdout"
        }
      ]
    },
    {
      "cell_type": "markdown",
      "metadata": {
        "id": "P2CdK2V1abqf"
      },
      "source": [
        "### Helpful initializations of an array\r\n",
        "\r\n",
        "The arrays can be easily filled with data using a few functions.\r\n",
        "\r\n",
        "Here `np.arrange ()` and `np.linspace ()` offer different approaches to create an array with a specific interval."
      ]
    },
    {
      "cell_type": "code",
      "metadata": {
        "id": "xyGHC4qMakdX",
        "colab": {
          "base_uri": "https://localhost:8080/",
          "height": 120
        },
        "outputId": "3c245f3d-8b3a-4397-c1c8-527ea585c149"
      },
      "source": [
        "# Values from 0 to 30 (exclusive) with step size 2\n",
        "range_with_fixed_interval = np.arange(0, 30, 2)\n",
        "print(f\"Vektor with arange:\\n{range_with_fixed_interval} \\n\")\n",
        "\n",
        "# 9 evenly distributed values between 0 and 4\n",
        "equally_spaced_range = np.linspace(0, 4, 9)\n",
        "print(f\"Vektor with linspace:\\n{equally_spaced_range} \\n\")"
      ],
      "execution_count": null,
      "outputs": [
        {
          "output_type": "stream",
          "text": [
            "Vektor mit arange:\n",
            "[ 0  2  4  6  8 10 12 14 16 18 20 22 24 26 28] \n",
            "\n",
            "Vektor mit linspace:\n",
            "[0.  0.5 1.  1.5 2.  2.5 3.  3.5 4. ] \n",
            "\n"
          ],
          "name": "stdout"
        }
      ]
    },
    {
      "cell_type": "markdown",
      "metadata": {
        "id": "aGahon6kap3G"
      },
      "source": [
        "### Helpful initializations of a matrix\r\n",
        "\r\n",
        "There are also clearly defined functions for creating special matrices.\r\n",
        "\r\n",
        "An identity matrix or a matrix of any size, which consists exclusively of ones or zeros, can be created very easily."
      ]
    },
    {
      "cell_type": "code",
      "metadata": {
        "id": "scFSN5Abas3P",
        "colab": {
          "base_uri": "https://localhost:8080/",
          "height": 275
        },
        "outputId": "6b89e916-f9f5-4474-be39-30dafc9a52d8"
      },
      "source": [
        "matrix_id = np.eye(3)           # 3 x 3 identity matrix\n",
        "matrix_ones = np.ones((3, 2))   # Matrix of ones\n",
        "matrix_zeros = np.zeros((3, 2)) # Matrix of zeros\n",
        "print(f\"identity matrix:\\n{matrix_id} \\n\")\n",
        "print(f\"Ones matrix:\\n{matrix_ones} \\n\")\n",
        "print(f\"Zeros matrix:\\n{matrix_zeros} \\n\")"
      ],
      "execution_count": null,
      "outputs": [
        {
          "output_type": "stream",
          "text": [
            "Identitätsmatrix:\n",
            "[[1. 0. 0.]\n",
            " [0. 1. 0.]\n",
            " [0. 0. 1.]] \n",
            "\n",
            "Einermatrix:\n",
            "[[1. 1.]\n",
            " [1. 1.]\n",
            " [1. 1.]] \n",
            "\n",
            "Nullermatrix:\n",
            "[[0. 0.]\n",
            " [0. 0.]\n",
            " [0. 0.]] \n",
            "\n"
          ],
          "name": "stdout"
        }
      ]
    },
    {
      "cell_type": "markdown",
      "metadata": {
        "id": "Jz2wc9ywau5u"
      },
      "source": [
        "#### Access to elements of a multi-dimensional array\r\n",
        "\r\n",
        "Access to the individual elements works as shown below and is probably also known from other programming languages.\r\n",
        "\r\n",
        "Using the :-notation, a certain area of the array can be easily queried by specifying a start and end index.\r\n",
        "In the case of the index with negative numbers, the array goes through its values in the reverse order."
      ]
    },
    {
      "cell_type": "code",
      "metadata": {
        "id": "ppVNVWzca0Ef",
        "colab": {
          "base_uri": "https://localhost:8080/",
          "height": 293
        },
        "outputId": "ac569c9b-7c06-4eac-b9e0-d27b30081122"
      },
      "source": [
        "vector = np.array([1,2,3])\n",
        "matrix = np.array([[1,2,3],[4,5,6]])\n",
        "print(f\"Vektor: {vector}\")\n",
        "print(f\"Matrix:\\n{matrix}\")\n",
        "\n",
        "# The 3rd element of the vector\n",
        "print(f\"\\nThe 3rd element of the vector: {vector[2]}\")\n",
        "\n",
        "# The 2nd element in the 2nd row of the matrix\n",
        "print(f\"\\nThe 2nd element in the 2nd row of the matrix: {matrix[1,1]}\")\n",
        "\n",
        "# All elements up to and including the 2nd element\n",
        "print(f\"\\nAll elements up to and including the 2nd element of the vector: {vector[:2]}\")\n",
        "\n",
        "# Everything from the 3rd element\n",
        "print(f\"\\nEverything from the 3rd element of the vector: {vector[3:]}\")\n",
        "\n",
        "# All elements of the vector\n",
        "print(f\"\\nAll elements of the vector: {vector[:]}\")\n",
        "\n",
        "# The last element (same result as vector [len (vector) -1])\n",
        "print(f\"\\nThe last element of the vector: {vector[-1]}\")"
      ],
      "execution_count": null,
      "outputs": [
        {
          "output_type": "stream",
          "text": [
            "Vektor: [1 2 3]\n",
            "Matrix:\n",
            "[[1 2 3]\n",
            " [4 5 6]]\n",
            "\n",
            "Das 3. Element des Vektors: 3\n",
            "\n",
            "Das 2. Element in der 2. Zeile der Matrix: 5\n",
            "\n",
            "Alle Elemente bis und inklusive dem 2. Element des Vektors: [1 2]\n",
            "\n",
            "Alles ab dem 3. Element des Vektors: []\n",
            "\n",
            "Alle Elemente des Vektors: [1 2 3]\n",
            "\n",
            "Das letzte Element des Vektors: 3\n"
          ],
          "name": "stdout"
        }
      ]
    },
    {
      "cell_type": "markdown",
      "metadata": {
        "id": "6xPS5dUWa1t2"
      },
      "source": [
        "### Properties of a matrix"
      ]
    },
    {
      "cell_type": "code",
      "metadata": {
        "id": "tDNB8fd3a4tO",
        "colab": {
          "base_uri": "https://localhost:8080/",
          "height": 172
        },
        "outputId": "b3afee6a-10e1-44c1-f1ab-5c72378b9be3"
      },
      "source": [
        "matrix = np.array([[1,2,3],[4,5,6]])\n",
        "print(f\"Matrix:\\n{matrix}\")\n",
        "\n",
        "# Anzahl von Reihen und Spalten\n",
        "print(f\"\\nForm der Matrix (Anzahl von Reihen und Spalten): {matrix.shape}\")\n",
        "\n",
        "# Anzahl der Elemente (Reihen * Spalten)\n",
        "print(f\"\\nAnzahl der Elemente (Reihen * Spalten): {matrix.size}\")\n",
        "\n",
        "# Anzahl der Dimensionen\n",
        "print(f\"\\nDimension der Matrix: {matrix.ndim}\")"
      ],
      "execution_count": null,
      "outputs": [
        {
          "output_type": "stream",
          "text": [
            "Matrix:\n",
            "[[1 2 3]\n",
            " [4 5 6]]\n",
            "\n",
            "Form der Matrix (Anzahl von Reihen und Spalten): (2, 3)\n",
            "\n",
            "Anzahl der Elemente (Reihen * Spalten): 6\n",
            "\n",
            "Dimension der Matrix: 2\n"
          ],
          "name": "stdout"
        }
      ]
    },
    {
      "cell_type": "markdown",
      "metadata": {
        "id": "QWgranIWa7f3"
      },
      "source": [
        "#### Transformationen auf Matrizen"
      ]
    },
    {
      "cell_type": "markdown",
      "metadata": {
        "id": "5Tc8XLC4VMb1"
      },
      "source": [
        "Wie in der nächsten Zeile an einigen Beispielen gezeigt, lassen sich Numpy Arrays relativ einfach in eine andere Form (unterschidliches shape) verwandeln.\n",
        "\n",
        "Hierbei muss ausschließlich darauf geachtet werden, dass die Elemente der neuen Form immernoch die gleiche Anzahl an Elementen besitzt wie die alte Form.\n",
        "\n",
        "Die Matrix speichert die neue Form nicht, sondern dies muss mit einer neuen Variablenzuweisung geschehen.\n",
        "\n",
        "`matrix.T` ist eine besondere Art der Umformung und spiegelt die Werte an der Diagonalen (Transponierte Matrix)"
      ]
    },
    {
      "cell_type": "code",
      "metadata": {
        "id": "nd1cGsIZbB_H",
        "colab": {
          "base_uri": "https://localhost:8080/",
          "height": 654
        },
        "outputId": "c3a21f17-170e-4e10-b48b-8b390921c78e"
      },
      "source": [
        "matrix = np.array([[1,2,3,4],[5,6,7,8],[9,10,11,12]])\n",
        "print(f\"Matrix:\\n{matrix}\")\n",
        "\n",
        "print(f\"\\nReshaped (12x1):\\n{matrix.reshape(12,1)}\")\n",
        "\n",
        "print(f\"\\nReshaped (1x12):\\n{matrix.reshape(1,12)}\")\n",
        "\n",
        "print(f\"\\nReshaped (2x6):\\n{matrix.reshape(2,6)}\")\n",
        "\n",
        "print(f\"\\nReshaped (1 Zeile mit so vielen Spalten wie nötig (-1)):\\n{matrix.reshape(1,-1)}\")\n",
        "\n",
        "print(f\"\\nFlattened (Umwandlung in ein unverschachteltes 1D Array):\\n{matrix.flatten()}\")\n",
        "\n",
        "print(f\"\\nTransponiert (Spiegelung an der Diagonalen):\\n{matrix.T}\")"
      ],
      "execution_count": null,
      "outputs": [
        {
          "output_type": "stream",
          "text": [
            "Matrix:\n",
            "[[ 1  2  3  4]\n",
            " [ 5  6  7  8]\n",
            " [ 9 10 11 12]]\n",
            "\n",
            "Reshaped (12x1):\n",
            "[[ 1]\n",
            " [ 2]\n",
            " [ 3]\n",
            " [ 4]\n",
            " [ 5]\n",
            " [ 6]\n",
            " [ 7]\n",
            " [ 8]\n",
            " [ 9]\n",
            " [10]\n",
            " [11]\n",
            " [12]]\n",
            "\n",
            "Reshaped (1x12):\n",
            "[[ 1  2  3  4  5  6  7  8  9 10 11 12]]\n",
            "\n",
            "Reshaped (2x6):\n",
            "[[ 1  2  3  4  5  6]\n",
            " [ 7  8  9 10 11 12]]\n",
            "\n",
            "Reshaped (1 Zeile mit so vielen Spalten wie nötig (-1)):\n",
            "[[ 1  2  3  4  5  6  7  8  9 10 11 12]]\n",
            "\n",
            "Flattened (Umwandlung in ein unverschachteltes 1D Array):\n",
            "[ 1  2  3  4  5  6  7  8  9 10 11 12]\n",
            "\n",
            "Transponiert (Spiegelung an der Diagonalen):\n",
            "[[ 1  5  9]\n",
            " [ 2  6 10]\n",
            " [ 3  7 11]\n",
            " [ 4  8 12]]\n"
          ],
          "name": "stdout"
        }
      ]
    },
    {
      "cell_type": "markdown",
      "metadata": {
        "id": "zTQFxYd_bQ_H"
      },
      "source": [
        "#### Punktprodukt"
      ]
    },
    {
      "cell_type": "markdown",
      "metadata": {
        "id": "7yZtejohaqFF"
      },
      "source": [
        "Der dot-Operator (oder @) bildet das bekannte Punktprodukt von 2 Vektoren. "
      ]
    },
    {
      "cell_type": "code",
      "metadata": {
        "id": "WfZVXuDPbS7v",
        "colab": {
          "base_uri": "https://localhost:8080/",
          "height": 86
        },
        "outputId": "cefa2eff-7dcc-4738-90db-52924563f0b8"
      },
      "source": [
        "vector1 = np.array([1,2,3])\n",
        "vector2 = np.array([1,1,1])\n",
        "print(f\"Vector1: {vector1}\")\n",
        "print(f\"Vector2: {vector2}\")\n",
        "\n",
        "# Punktprodukt\n",
        "print(f\"\\nPunktprodukt = {np.dot(vector1,vector2)}\")\n",
        "\n",
        "# Punktprodukt kann auch mit dem @ Operator geschrieben werden\n",
        "# vector1 @ vector2"
      ],
      "execution_count": null,
      "outputs": [
        {
          "output_type": "stream",
          "text": [
            "Vector1: [1 2 3]\n",
            "Vector2: [1 1 1]\n",
            "\n",
            "Punktprodukt = 6\n"
          ],
          "name": "stdout"
        }
      ]
    },
    {
      "cell_type": "markdown",
      "metadata": {
        "id": "mGYiuvgabD5X"
      },
      "source": [
        "\n",
        "#### Rechenoperationen von Matrizen"
      ]
    },
    {
      "cell_type": "markdown",
      "metadata": {
        "id": "HSc1zpl0XtHf"
      },
      "source": [
        "Die Elementbasierten Operationen funktionieren, wie der Name schon sagt auf den einzelnen Elementen. So wird das 1. Element der einen Matrix mit dem 1. Element der anderen Matrix verrechnet usw.\n",
        "\n",
        "Die klassische Matrixmultiplikation funktioniert mit dem dot-Operator, welcher normalerweise das Punktprodukt von 2 Vektoren bildet.\n",
        "Hierfür müssen die verrechneten Matrizen nur in die richtige Form gebracht werden, sodass die Spalten der ersten Matrix mit den Reihen der zweiten Matrix über einstimmen. "
      ]
    },
    {
      "cell_type": "code",
      "metadata": {
        "id": "A7jwryfHbOW3",
        "colab": {
          "base_uri": "https://localhost:8080/",
          "height": 499
        },
        "outputId": "02c01f65-9010-4b87-e8ad-211bdbe4e999"
      },
      "source": [
        "matrix1 = np.array([[1,2,3],[4,5,6]])\n",
        "matrix2 = np.array([[2,2,2],[2,2,2]])\n",
        "print(f\"Matrix1:\\n{matrix1}\")\n",
        "print(f\"\\nMatrix2:\\n{matrix2}\")\n",
        "\n",
        "# Elementweise Addition\n",
        "print(f\"\\nmatrix1 + matrix2 =\\n{matrix1 + matrix2}\")\n",
        "\n",
        "# Elementweise Subtraktion\n",
        "print(f\"\\nmatrix1 - matrix2 =\\n{matrix1 - matrix2}\")\n",
        "\n",
        "# Elementweise Multiplikation\n",
        "print(f\"\\nmatrix1 * matrix2 =\\n{matrix1 * matrix2}\")\n",
        "\n",
        "# Elementweise Division\n",
        "print(f\"\\nmatrix1 / matrix2 =\\n{matrix1 / matrix2}\")\n",
        "\n",
        "# Matrixmultiplikation (nur möglich für (n x m)-Matrix * (m x l)-Matrix)\n",
        "# Reshape muss vorgenommen werden\n",
        "dot = np.dot(matrix1.reshape(3,2),matrix2)\n",
        "print(f\"\\nMatrixmultiplikation =\\n{dot}\")"
      ],
      "execution_count": null,
      "outputs": [
        {
          "output_type": "stream",
          "text": [
            "Matrix1:\n",
            "[[1 2 3]\n",
            " [4 5 6]]\n",
            "\n",
            "Matrix2:\n",
            "[[2 2 2]\n",
            " [2 2 2]]\n",
            "\n",
            "matrix1 + matrix2 =\n",
            "[[3 4 5]\n",
            " [6 7 8]]\n",
            "\n",
            "matrix1 - matrix2 =\n",
            "[[-1  0  1]\n",
            " [ 2  3  4]]\n",
            "\n",
            "matrix1 * matrix2 =\n",
            "[[ 2  4  6]\n",
            " [ 8 10 12]]\n",
            "\n",
            "matrix1 / matrix2 =\n",
            "[[0.5 1.  1.5]\n",
            " [2.  2.5 3. ]]\n",
            "\n",
            "Matrixmultiplikation =\n",
            "[[ 6  6  6]\n",
            " [14 14 14]\n",
            " [22 22 22]]\n"
          ],
          "name": "stdout"
        }
      ]
    },
    {
      "cell_type": "markdown",
      "metadata": {
        "id": "I5bKMRAhbdVw"
      },
      "source": [
        "#### Anwenden von Funktionen auf mehrere Elemente\n",
        "\n",
        "Mit Hilfe des `lambda`-Operators können anonyme Funktionen, d.h. Funktionen ohne Namen erzeugt werden. Sie haben eine beliebige Anzahl von Parametern, führen einen Ausdruck aus und liefern den Wert dieses Ausdrucks als Rückgabewert zurück.\n",
        "\n",
        "Bekommt die Funktion ein mehrdimensionales Numpy Array operiert es auf allen Elementen seperat. "
      ]
    },
    {
      "cell_type": "code",
      "metadata": {
        "id": "wWVu37dJbgrI",
        "colab": {
          "base_uri": "https://localhost:8080/",
          "height": 69
        },
        "outputId": "90c1820e-e2cd-49e7-cef4-03886ebf1b45"
      },
      "source": [
        "matrix = np.array([[1,2,3],[4,5,6],[7,8,9]])\n",
        "\n",
        "# Ein lambda Ausdruck der die Eingabe mit 100 addiert und implizit returned\n",
        "add_100 = lambda i: i+100\n",
        "\n",
        "# Funktionsanwendung auf alle Elemente der Matrix\n",
        "matrix = add_100(matrix)\n",
        "print(matrix)"
      ],
      "execution_count": null,
      "outputs": [
        {
          "output_type": "stream",
          "text": [
            "[[101 102 103]\n",
            " [104 105 106]\n",
            " [107 108 109]]\n"
          ],
          "name": "stdout"
        }
      ]
    },
    {
      "cell_type": "markdown",
      "metadata": {
        "id": "j0YevGv1boFP"
      },
      "source": [
        "#### Berechnen von Durchschnitt, Standardabweichung und Varianz"
      ]
    },
    {
      "cell_type": "markdown",
      "metadata": {
        "id": "r8o31HjTcKnM"
      },
      "source": [
        "Numpy bietet ebenso einige statistische Funktionalitäten, welche für unsere Zwecke erstmal nicht von Relevanz sind. "
      ]
    },
    {
      "cell_type": "code",
      "metadata": {
        "id": "OU0ouqp-bter",
        "colab": {
          "base_uri": "https://localhost:8080/",
          "height": 69
        },
        "outputId": "cce66bc7-4768-4910-98df-4f81a626ac29"
      },
      "source": [
        "matrix = np.array([[1,2,3],[4,5,6],[7,8,9]])\n",
        "\n",
        "# Statistisches Mittel\n",
        "print(np.mean(matrix))\n",
        "\n",
        "# Standardabweichung\n",
        "print(np.std(matrix))\n",
        "\n",
        "# Varianz\n",
        "print(np.var(matrix))"
      ],
      "execution_count": null,
      "outputs": [
        {
          "output_type": "stream",
          "text": [
            "5.0\n",
            "2.581988897471611\n",
            "6.666666666666667\n"
          ],
          "name": "stdout"
        }
      ]
    },
    {
      "cell_type": "markdown",
      "metadata": {
        "id": "VqcRDd2HbjBv"
      },
      "source": [
        "#### Berechnung von Zufallswerten\n",
        "\n",
        "Wir wollen immer die gleiche pseudozufällige Folge an Werten erhalten, woraufhin wir den Zufallsgenerator \"seeden\".\n",
        "Die mehrfache Ausführung der Zelle gibt somit die immer gleichen Elemente zurück, was ohne `np.random.seed(1)` nicht der Fall wäre. \n",
        "\n",
        "Versucht es gerne aus!!"
      ]
    },
    {
      "cell_type": "code",
      "metadata": {
        "id": "X47xFEMHblT3",
        "colab": {
          "base_uri": "https://localhost:8080/",
          "height": 86
        },
        "outputId": "7b829758-9ffe-4a38-ace9-9a28710c15ba"
      },
      "source": [
        "# Generator seeden um reproduzierbare Ausgaben zu erhalten\n",
        " np.random.seed(1)\n",
        "\n",
        "# Generiert 3 zufällige Integer zwischen 0 und 10\n",
        "print(np.random.randint(0,11,3))\n",
        "\n",
        "# Generiert eine zufällige 2x2 Matrix\n",
        "# Die Werte der Matrix sind floats einer Normalverteilung mit Mittelwert 0 und Varianz 1\n",
        "print(np.random.randn(2, 2))\n",
        "\n",
        "# 3 Zahlen aus einer Normalverteilung mit Mittelwert 1 und Varianz 2\n",
        "print(np.random.normal(1.0, 2.0, 3))"
      ],
      "execution_count": null,
      "outputs": [
        {
          "output_type": "stream",
          "text": [
            "[5 8 9]\n",
            "[[-0.80217284 -0.44887781]\n",
            " [-1.10593508 -1.65451545]]\n",
            "[-3.72693721  3.2706907  -1.03402827]\n"
          ],
          "name": "stdout"
        }
      ]
    },
    {
      "cell_type": "markdown",
      "metadata": {
        "id": "ECDfqyAvb8Yg"
      },
      "source": [
        "#### Datentyp ändern"
      ]
    },
    {
      "cell_type": "code",
      "metadata": {
        "id": "jh3dLXHAdd4W",
        "colab": {
          "base_uri": "https://localhost:8080/",
          "height": 69
        },
        "outputId": "d8a5f05b-9c24-4473-bee2-db01ddb953ad"
      },
      "source": [
        "matrix = np.array([[1,2,3],[4,5,6],[7,8,9]])\n",
        "\n",
        "# Ändert Datentyp der Elemente zu floats\n",
        "print(matrix.astype(float))"
      ],
      "execution_count": null,
      "outputs": [
        {
          "output_type": "stream",
          "text": [
            "[[1. 2. 3.]\n",
            " [4. 5. 6.]\n",
            " [7. 8. 9.]]\n"
          ],
          "name": "stdout"
        }
      ]
    },
    {
      "cell_type": "markdown",
      "metadata": {
        "id": "BSniIDhid8bm"
      },
      "source": [
        "#### Arrays verketten"
      ]
    },
    {
      "cell_type": "markdown",
      "metadata": {
        "id": "D2sHvwynfiKO"
      },
      "source": [
        "Mittels der `append()` Funktion lassen sich Vektoren mit einander verketten. Sollten die Arrays von einem unterschiedlichen Datentyp sein, werden die Werte in den größeren Datentyp konvertiert (z.B. int -> float -> strings)"
      ]
    },
    {
      "cell_type": "code",
      "metadata": {
        "id": "YEVLhmE5d_01",
        "colab": {
          "base_uri": "https://localhost:8080/",
          "height": 34
        },
        "outputId": "f1504633-55e9-4393-d936-ec13b8a9b661"
      },
      "source": [
        "vector1 = np.array([1,2,3])\n",
        "vector2 = np.array([4,5,6])\n",
        "\n",
        "# Vektoren verketten\n",
        "print(np.append(vector1, vector2))\n",
        "\n",
        "# Alternativ concatenate\n",
        "# np.concatenate((vector1, vector2))"
      ],
      "execution_count": null,
      "outputs": [
        {
          "output_type": "stream",
          "text": [
            "[1 2 3 4 5 6]\n"
          ],
          "name": "stdout"
        }
      ]
    },
    {
      "cell_type": "markdown",
      "metadata": {
        "id": "ii7KL7COby3Y"
      },
      "source": [
        "#### Finden von Minimum und Maximum"
      ]
    },
    {
      "cell_type": "markdown",
      "metadata": {
        "id": "5mRWfo68iDuU"
      },
      "source": [
        "Die Funktionen `min()` und `max()` sind in ihrer Bezeichnung recht eindeutig, wohingegen `argmax()` bzw `argmin()` für die Indizes dieser Elemente steht.\n",
        "\n",
        "Durch die Angabe einer Achse werden die entsprechenden Elemente entlang dieser Achse beschrieben (mit 0 werden die maximalen Elemente in den Spalten und mit 1 die maximalen Elemente in den Reihen angegeben)."
      ]
    },
    {
      "cell_type": "code",
      "metadata": {
        "id": "shMPGf4kb1sY",
        "colab": {
          "base_uri": "https://localhost:8080/",
          "height": 155
        },
        "outputId": "3dd4df1f-7cc0-4867-9477-0b8d2d6f8842"
      },
      "source": [
        "matrix = np.array([[1,4,3],[34,7,6],[27,18,9]])\n",
        "print(matrix)\n",
        "\n",
        "# Maximales Element\n",
        "print(f\"\\nMax: {np.max(matrix)}\")\n",
        "\n",
        "# Minimales Element\n",
        "print(f\"Min: {np.max(matrix)}\")\n",
        "\n",
        "# Die Indizes der maximalen Elemente entlang einer Achse\n",
        "print(f\"Indizes der maximalen Elemente aus Achse 0: {np.argmax(matrix, axis=0)}\")\n",
        "\n",
        "# Das maximale Element entlang einer Achse zurückgeben\n",
        "print(f\"Maximale Elemente der Achse 0: {np.max(matrix,axis=0)}\")"
      ],
      "execution_count": null,
      "outputs": [
        {
          "output_type": "stream",
          "text": [
            "[[ 1  4  3]\n",
            " [34  7  6]\n",
            " [27 18  9]]\n",
            "\n",
            "Max: 34\n",
            "Min: 34\n",
            "Indizes der maximalen Elemente aus Achse 0: [1 2 2]\n",
            "Maximale Elemente der Achse 0: [34 18  9]\n"
          ],
          "name": "stdout"
        }
      ]
    },
    {
      "cell_type": "markdown",
      "metadata": {
        "id": "iAULXUGzb4SI"
      },
      "source": [
        "#### Matrixdiagonale, Spur"
      ]
    },
    {
      "cell_type": "markdown",
      "metadata": {
        "id": "qQbE0Z9KhMCe"
      },
      "source": [
        "Auch auf diese Funktionalitäten wollten wir nicht weiter eingehen, da sie für unsere Zwecke keine große Bedeutung haben. Sie sind hier eher der vollständigkeitshalber mit aufgeführt. "
      ]
    },
    {
      "cell_type": "code",
      "metadata": {
        "id": "H419PMwKb6Lw",
        "colab": {
          "base_uri": "https://localhost:8080/",
          "height": 138
        },
        "outputId": "24f2a266-a01d-419f-973c-c0034bb7b610"
      },
      "source": [
        "matrix = np.array([[1,4,3],[34,7,6],[27,18,9]])\n",
        "print(matrix)\n",
        "\n",
        "# Hauptdiagonale\n",
        "print(f\"\\nHauptdiagonale: {matrix.diagonal()}\")\n",
        "\n",
        "# Diagonale direkt über der Hauptdiagonalen\n",
        "print(f\"Diagonale über der Hauptdiagonalen: {matrix.diagonal(offset=1)}\")\n",
        "\n",
        "# Spur der Matrix (Summe der Elemente der Hauptdiagonalen)\n",
        "print(f\"Spur: {matrix.trace()}\")"
      ],
      "execution_count": null,
      "outputs": [
        {
          "output_type": "stream",
          "text": [
            "[[ 1  4  3]\n",
            " [34  7  6]\n",
            " [27 18  9]]\n",
            "\n",
            "Hauptdiagonale: [1 7 9]\n",
            "Diagonale über der Hauptdiagonalen: [4 6]\n",
            "Spur: 17\n"
          ],
          "name": "stdout"
        }
      ]
    }
  ]
}