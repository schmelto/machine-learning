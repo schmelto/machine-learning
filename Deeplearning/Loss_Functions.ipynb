{
  "nbformat": 4,
  "nbformat_minor": 0,
  "metadata": {
    "colab": {
      "name": "Loss_Functions.ipynb",
      "provenance": [],
      "collapsed_sections": [],
      "include_colab_link": true
    },
    "kernelspec": {
      "name": "python3",
      "display_name": "Python 3"
    },
    "accelerator": "GPU"
  },
  "cells": [
    {
      "cell_type": "markdown",
      "metadata": {
        "id": "view-in-github",
        "colab_type": "text"
      },
      "source": [
        "<a href=\"https://colab.research.google.com/github/schmelto/machine-learning/blob/main/Deeplearning/Loss_Functions.ipynb\" target=\"_parent\"><img src=\"https://colab.research.google.com/assets/colab-badge.svg\" alt=\"Open In Colab\"/></a>"
      ]
    },
    {
      "cell_type": "markdown",
      "metadata": {
        "id": "BcaAys-RFK1H"
      },
      "source": [
        "# Loss Functions\n",
        "\n",
        "In this notebook, various loss functions are compared using the MNIST data set"
      ]
    },
    {
      "cell_type": "code",
      "metadata": {
        "id": "anAbuY1-dzbZ",
        "colab": {
          "base_uri": "https://localhost:8080/"
        },
        "outputId": "63e62d30-d526-4aee-aeba-38c2edb264ca"
      },
      "source": [
        "%tensorflow_version 2.x # Command for Google Colab for Tensorflow 2"
      ],
      "execution_count": 1,
      "outputs": [
        {
          "output_type": "stream",
          "text": [
            "`%tensorflow_version` only switches the major version: 1.x or 2.x.\n",
            "You set: `2.x # Command for Google Colab for Tensorflow 2`. This will be interpreted as: `2.x`.\n",
            "\n",
            "\n",
            "TensorFlow 2.x selected.\n"
          ],
          "name": "stdout"
        }
      ]
    },
    {
      "cell_type": "code",
      "metadata": {
        "id": "BYKdhdArMixR"
      },
      "source": [
        "# TensorFlow and tf.keras\n",
        "import tensorflow as tf\n",
        "from tensorflow import keras\n",
        "import numpy as np\n",
        "import matplotlib.pyplot as plt"
      ],
      "execution_count": 2,
      "outputs": []
    },
    {
      "cell_type": "markdown",
      "metadata": {
        "id": "jVw0FcWMFWJL"
      },
      "source": [
        "## Loading the MNIST data set"
      ]
    },
    {
      "cell_type": "code",
      "metadata": {
        "id": "HrkKkPW2OIfB",
        "colab": {
          "base_uri": "https://localhost:8080/"
        },
        "outputId": "b8bcc7a4-0aef-42dd-b39b-aeff776c8133"
      },
      "source": [
        "(train_images, train_labels), (test_images, test_labels) = keras \\\n",
        "  .datasets.mnist.load_data()"
      ],
      "execution_count": 3,
      "outputs": [
        {
          "output_type": "stream",
          "text": [
            "Downloading data from https://storage.googleapis.com/tensorflow/tf-keras-datasets/mnist.npz\n",
            "11493376/11490434 [==============================] - 0s 0us/step\n"
          ],
          "name": "stdout"
        }
      ]
    },
    {
      "cell_type": "markdown",
      "metadata": {
        "id": "ko1WgcnHFc36"
      },
      "source": [
        "Here the MNIST data is normalized so that it is only saved as a float from 0 to 1"
      ]
    },
    {
      "cell_type": "code",
      "metadata": {
        "id": "6onrRWeHOV8b"
      },
      "source": [
        "train_images = train_images / 255.0\n",
        "test_images = test_images / 255.0"
      ],
      "execution_count": 4,
      "outputs": []
    },
    {
      "cell_type": "markdown",
      "metadata": {
        "id": "JI4GOesYFlQK"
      },
      "source": [
        "## Definition of the models\n",
        "\n",
        "The models can be generated using the `get_model()` function and consist of 2 dense layers with Relu and Sigmoid functions"
      ]
    },
    {
      "cell_type": "code",
      "metadata": {
        "id": "EEvwJtk7Oppm"
      },
      "source": [
        "def get_model():\n",
        "  return keras.Sequential([\n",
        "    keras.layers.Flatten(input_shape=(28, 28)),\n",
        "    keras.layers.Dense(128, activation='relu'),\n",
        "    keras.layers.Dense(10, activation='sigmoid')\n",
        "  ])\n",
        "\n",
        "model_mse = get_model() # Modell with Mean Squared Error Loss\n",
        "model_cce =  get_model() # Modell with Categorical Crossentropy\n",
        "model_scce = get_model() # Modell with Sparse Categorical Crossentropy"
      ],
      "execution_count": 5,
      "outputs": []
    },
    {
      "cell_type": "markdown",
      "metadata": {
        "id": "YlusPtyTGSZJ"
      },
      "source": [
        "## Compile the models\n",
        "\n",
        "For each of the models, Stochastic Gradient Descent is used as an optimizer and the loss function that fits the model.\n",
        "\n",
        "This is set in the `model.compile()` function"
      ]
    },
    {
      "cell_type": "code",
      "metadata": {
        "id": "mjC8UAqUOyZ6"
      },
      "source": [
        "optimizer = 'sgd'\n",
        "\n",
        "model_mse.compile(\n",
        "    optimizer=optimizer,\n",
        "    loss='mean_squared_error',\n",
        "    metrics=['accuracy']\n",
        ")\n",
        "model_cce.compile(\n",
        "    optimizer=optimizer,\n",
        "    loss='categorical_crossentropy',\n",
        "    metrics=['accuracy']\n",
        ")\n",
        "model_scce.compile(\n",
        "    optimizer=optimizer,\n",
        "    loss='sparse_categorical_crossentropy',\n",
        "    metrics=['accuracy']\n",
        ")\n"
      ],
      "execution_count": 6,
      "outputs": []
    },
    {
      "cell_type": "markdown",
      "metadata": {
        "id": "B-uJ3o-hGp3V"
      },
      "source": [
        "## Training the models\n",
        "\n",
        "The training results are saved in the history list.\n",
        "\n",
        "For training with the Sparse Categorical Crossentropy, the data do not have to be changed. This is why you can train here with `model.fit()`. A validation data set is determined at the same time.\n",
        "\n",
        "The other two models are added to the models list so that they can be trained."
      ]
    },
    {
      "cell_type": "code",
      "metadata": {
        "id": "ZKT-Fn5-GsSg",
        "colab": {
          "base_uri": "https://localhost:8080/"
        },
        "outputId": "0e535088-d143-44e7-887f-2f9953a71a20"
      },
      "source": [
        "epochs=15 # Definition of 15 training periods\n",
        "history = [model_scce.fit(\n",
        "    train_images,\n",
        "    train_labels,\n",
        "    epochs=epochs,\n",
        "    validation_data=(test_images, test_labels),\n",
        "    verbose=True)\n",
        "]\n",
        "models = [model_mse, model_cce]"
      ],
      "execution_count": 7,
      "outputs": [
        {
          "output_type": "stream",
          "text": [
            "Epoch 1/15\n",
            "1875/1875 [==============================] - 5s 2ms/step - loss: 0.9903 - accuracy: 0.7470 - val_loss: 0.3492 - val_accuracy: 0.9069\n",
            "Epoch 2/15\n",
            "1875/1875 [==============================] - 3s 2ms/step - loss: 0.3476 - accuracy: 0.9024 - val_loss: 0.2860 - val_accuracy: 0.9223\n",
            "Epoch 3/15\n",
            "1875/1875 [==============================] - 3s 2ms/step - loss: 0.2916 - accuracy: 0.9186 - val_loss: 0.2525 - val_accuracy: 0.9314\n",
            "Epoch 4/15\n",
            "1875/1875 [==============================] - 3s 2ms/step - loss: 0.2566 - accuracy: 0.9284 - val_loss: 0.2309 - val_accuracy: 0.9357\n",
            "Epoch 5/15\n",
            "1875/1875 [==============================] - 3s 2ms/step - loss: 0.2316 - accuracy: 0.9366 - val_loss: 0.2131 - val_accuracy: 0.9412\n",
            "Epoch 6/15\n",
            "1875/1875 [==============================] - 3s 2ms/step - loss: 0.2120 - accuracy: 0.9401 - val_loss: 0.1987 - val_accuracy: 0.9437\n",
            "Epoch 7/15\n",
            "1875/1875 [==============================] - 3s 2ms/step - loss: 0.1958 - accuracy: 0.9450 - val_loss: 0.1862 - val_accuracy: 0.9479\n",
            "Epoch 8/15\n",
            "1875/1875 [==============================] - 3s 2ms/step - loss: 0.1843 - accuracy: 0.9495 - val_loss: 0.1755 - val_accuracy: 0.9494\n",
            "Epoch 9/15\n",
            "1875/1875 [==============================] - 3s 2ms/step - loss: 0.1750 - accuracy: 0.9510 - val_loss: 0.1664 - val_accuracy: 0.9526\n",
            "Epoch 10/15\n",
            "1875/1875 [==============================] - 3s 2ms/step - loss: 0.1633 - accuracy: 0.9543 - val_loss: 0.1594 - val_accuracy: 0.9549\n",
            "Epoch 11/15\n",
            "1875/1875 [==============================] - 4s 2ms/step - loss: 0.1567 - accuracy: 0.9556 - val_loss: 0.1511 - val_accuracy: 0.9569\n",
            "Epoch 12/15\n",
            "1875/1875 [==============================] - 3s 2ms/step - loss: 0.1462 - accuracy: 0.9593 - val_loss: 0.1450 - val_accuracy: 0.9583\n",
            "Epoch 13/15\n",
            "1875/1875 [==============================] - 3s 2ms/step - loss: 0.1373 - accuracy: 0.9617 - val_loss: 0.1399 - val_accuracy: 0.9608\n",
            "Epoch 14/15\n",
            "1875/1875 [==============================] - 4s 2ms/step - loss: 0.1316 - accuracy: 0.9640 - val_loss: 0.1340 - val_accuracy: 0.9621\n",
            "Epoch 15/15\n",
            "1875/1875 [==============================] - 3s 2ms/step - loss: 0.1307 - accuracy: 0.9642 - val_loss: 0.1289 - val_accuracy: 0.9636\n"
          ],
          "name": "stdout"
        }
      ]
    },
    {
      "cell_type": "markdown",
      "metadata": {
        "id": "-FnqQk4kHQxp"
      },
      "source": [
        "### Conversion of the labels into categorical labels\n",
        "(more on this at the end of the notebook)\n",
        "\n",
        "These are required for training with the other loss functions"
      ]
    },
    {
      "cell_type": "code",
      "metadata": {
        "id": "SbkCCvu8Px1s"
      },
      "source": [
        "_train_labels = keras.utils.to_categorical(train_labels, 10)\n",
        "_test_labels = keras.utils.to_categorical(test_labels, 10)"
      ],
      "execution_count": 8,
      "outputs": []
    },
    {
      "cell_type": "code",
      "metadata": {
        "id": "6QDK4o68O71J",
        "colab": {
          "base_uri": "https://localhost:8080/"
        },
        "outputId": "fd09a2b1-1f06-46fe-ac64-fcbdee19c621"
      },
      "source": [
        "# Train the other two models\n",
        "history += [model.fit(train_images, _train_labels, epochs=epochs, validation_data=(test_images, _test_labels), verbose=True) for model in models]"
      ],
      "execution_count": 9,
      "outputs": [
        {
          "output_type": "stream",
          "text": [
            "Epoch 1/15\n",
            "1875/1875 [==============================] - 4s 2ms/step - loss: 0.1398 - accuracy: 0.1778 - val_loss: 0.0845 - val_accuracy: 0.4463\n",
            "Epoch 2/15\n",
            "1875/1875 [==============================] - 3s 2ms/step - loss: 0.0819 - accuracy: 0.4879 - val_loss: 0.0722 - val_accuracy: 0.5981\n",
            "Epoch 3/15\n",
            "1875/1875 [==============================] - 3s 2ms/step - loss: 0.0698 - accuracy: 0.6171 - val_loss: 0.0614 - val_accuracy: 0.6844\n",
            "Epoch 4/15\n",
            "1875/1875 [==============================] - 3s 2ms/step - loss: 0.0602 - accuracy: 0.6841 - val_loss: 0.0537 - val_accuracy: 0.7159\n",
            "Epoch 5/15\n",
            "1875/1875 [==============================] - 3s 2ms/step - loss: 0.0531 - accuracy: 0.7133 - val_loss: 0.0484 - val_accuracy: 0.7409\n",
            "Epoch 6/15\n",
            "1875/1875 [==============================] - 3s 2ms/step - loss: 0.0483 - accuracy: 0.7362 - val_loss: 0.0446 - val_accuracy: 0.7606\n",
            "Epoch 7/15\n",
            "1875/1875 [==============================] - 3s 2ms/step - loss: 0.0447 - accuracy: 0.7541 - val_loss: 0.0415 - val_accuracy: 0.7784\n",
            "Epoch 8/15\n",
            "1875/1875 [==============================] - 3s 2ms/step - loss: 0.0417 - accuracy: 0.7767 - val_loss: 0.0389 - val_accuracy: 0.8119\n",
            "Epoch 9/15\n",
            "1875/1875 [==============================] - 3s 2ms/step - loss: 0.0391 - accuracy: 0.8142 - val_loss: 0.0364 - val_accuracy: 0.8459\n",
            "Epoch 10/15\n",
            "1875/1875 [==============================] - 3s 2ms/step - loss: 0.0369 - accuracy: 0.8422 - val_loss: 0.0343 - val_accuracy: 0.8606\n",
            "Epoch 11/15\n",
            "1875/1875 [==============================] - 4s 2ms/step - loss: 0.0345 - accuracy: 0.8570 - val_loss: 0.0324 - val_accuracy: 0.8679\n",
            "Epoch 12/15\n",
            "1875/1875 [==============================] - 3s 2ms/step - loss: 0.0327 - accuracy: 0.8625 - val_loss: 0.0308 - val_accuracy: 0.8723\n",
            "Epoch 13/15\n",
            "1875/1875 [==============================] - 3s 2ms/step - loss: 0.0312 - accuracy: 0.8666 - val_loss: 0.0295 - val_accuracy: 0.8743\n",
            "Epoch 14/15\n",
            "1875/1875 [==============================] - 3s 2ms/step - loss: 0.0301 - accuracy: 0.8712 - val_loss: 0.0283 - val_accuracy: 0.8787\n",
            "Epoch 15/15\n",
            "1875/1875 [==============================] - 3s 2ms/step - loss: 0.0291 - accuracy: 0.8726 - val_loss: 0.0273 - val_accuracy: 0.8826\n",
            "Epoch 1/15\n",
            "1875/1875 [==============================] - 4s 2ms/step - loss: 1.0637 - accuracy: 0.7228 - val_loss: 0.3570 - val_accuracy: 0.9027\n",
            "Epoch 2/15\n",
            "1875/1875 [==============================] - 4s 2ms/step - loss: 0.3511 - accuracy: 0.9025 - val_loss: 0.2902 - val_accuracy: 0.9182\n",
            "Epoch 3/15\n",
            "1875/1875 [==============================] - 4s 2ms/step - loss: 0.2905 - accuracy: 0.9172 - val_loss: 0.2547 - val_accuracy: 0.9286\n",
            "Epoch 4/15\n",
            "1875/1875 [==============================] - 4s 2ms/step - loss: 0.2558 - accuracy: 0.9278 - val_loss: 0.2303 - val_accuracy: 0.9352\n",
            "Epoch 5/15\n",
            "1875/1875 [==============================] - 4s 2ms/step - loss: 0.2359 - accuracy: 0.9336 - val_loss: 0.2126 - val_accuracy: 0.9391\n",
            "Epoch 6/15\n",
            "1875/1875 [==============================] - 4s 2ms/step - loss: 0.2158 - accuracy: 0.9391 - val_loss: 0.1980 - val_accuracy: 0.9429\n",
            "Epoch 7/15\n",
            "1875/1875 [==============================] - 4s 2ms/step - loss: 0.1957 - accuracy: 0.9445 - val_loss: 0.1853 - val_accuracy: 0.9470\n",
            "Epoch 8/15\n",
            "1875/1875 [==============================] - 4s 2ms/step - loss: 0.1859 - accuracy: 0.9480 - val_loss: 0.1732 - val_accuracy: 0.9501\n",
            "Epoch 9/15\n",
            "1875/1875 [==============================] - 4s 2ms/step - loss: 0.1760 - accuracy: 0.9511 - val_loss: 0.1649 - val_accuracy: 0.9520\n",
            "Epoch 10/15\n",
            "1875/1875 [==============================] - 4s 2ms/step - loss: 0.1641 - accuracy: 0.9540 - val_loss: 0.1567 - val_accuracy: 0.9553\n",
            "Epoch 11/15\n",
            "1875/1875 [==============================] - 4s 2ms/step - loss: 0.1501 - accuracy: 0.9583 - val_loss: 0.1483 - val_accuracy: 0.9571\n",
            "Epoch 12/15\n",
            "1875/1875 [==============================] - 4s 2ms/step - loss: 0.1454 - accuracy: 0.9598 - val_loss: 0.1444 - val_accuracy: 0.9582\n",
            "Epoch 13/15\n",
            "1875/1875 [==============================] - 4s 2ms/step - loss: 0.1388 - accuracy: 0.9605 - val_loss: 0.1379 - val_accuracy: 0.9605\n",
            "Epoch 14/15\n",
            "1875/1875 [==============================] - 4s 2ms/step - loss: 0.1283 - accuracy: 0.9641 - val_loss: 0.1327 - val_accuracy: 0.9617\n",
            "Epoch 15/15\n",
            "1875/1875 [==============================] - 4s 2ms/step - loss: 0.1245 - accuracy: 0.9655 - val_loss: 0.1300 - val_accuracy: 0.9637\n"
          ],
          "name": "stdout"
        }
      ]
    },
    {
      "cell_type": "markdown",
      "metadata": {
        "id": "6G3smAfhHh-z"
      },
      "source": [
        "## Plot the results with matplotlib\n",
        "\n",
        "With `plt.plot` the individual results of the models are integrated in different colors."
      ]
    },
    {
      "cell_type": "code",
      "metadata": {
        "id": "hocTWrYaWBQp",
        "colab": {
          "base_uri": "https://localhost:8080/",
          "height": 312
        },
        "outputId": "f702d9e2-3d24-4278-dcd8-7e0bb36d98e7"
      },
      "source": [
        "def plot_learning_curve(ylim=0.6):\n",
        "    plt.figure()\n",
        "    plt.title(\"accuracy comparison\")\n",
        "    axes = plt.gca()\n",
        "    axes.set_ylim([ylim, 1])\n",
        "    plt.xlabel(\"Epoch\")\n",
        "    plt.ylabel(\"Accuracy\")\n",
        "    train_sizes = np.arange(1, 1 + len(history[0].history['accuracy']))\n",
        "    plt.ylim((0,1))\n",
        "    plt.grid()\n",
        "    plt.plot(\n",
        "        train_sizes,\n",
        "        history[0].history['accuracy'],\n",
        "        'o-',\n",
        "        color=(177/255, 6/255, 58/255),\n",
        "        label=\"scce\"\n",
        "    )\n",
        "    plt.plot(\n",
        "        train_sizes,\n",
        "        history[1].history['accuracy'],\n",
        "        'o-',\n",
        "        color=(246/255, 168/255, 0),\n",
        "        label=\"mse\")\n",
        "    \n",
        "    plt.plot(\n",
        "        train_sizes,\n",
        "        history[2].history['accuracy'],\n",
        "        'o-',\n",
        "        color='green',\n",
        "        label=\"cce\"\n",
        "    )\n",
        "\n",
        "    plt.legend(loc=\"best\")\n",
        "    return plt\n",
        "\n",
        "plot_learning_curve()"
      ],
      "execution_count": 10,
      "outputs": [
        {
          "output_type": "execute_result",
          "data": {
            "text/plain": [
              "<module 'matplotlib.pyplot' from '/usr/local/lib/python3.6/dist-packages/matplotlib/pyplot.py'>"
            ]
          },
          "metadata": {
            "tags": []
          },
          "execution_count": 10
        },
        {
          "output_type": "display_data",
          "data": {
            "image/png": "[encoded data removed]",
            "text/plain": [
              "<Figure size 432x288 with 1 Axes>"
            ]
          },
          "metadata": {
            "tags": [],
            "needs_background": "light"
          }
        }
      ]
    },
    {
      "cell_type": "markdown",
      "metadata": {
        "id": "96qK4pQhNFMG"
      },
      "source": [
        "- scce = Sparse Categorical Crossentropy\n",
        "- cce = Categorical Crossentropy\n",
        "- mse = Mean Squared Error"
      ]
    },
    {
      "cell_type": "markdown",
      "metadata": {
        "id": "pvRsmWsOFb-K"
      },
      "source": [
        "## When should you use CategoricalCross Entropy and when should you use Sparse Categorical Crossentropy?\n",
        "\n",
        "For `Categorical Cross Entropy` the labels must be available as an array with a 1 at the index of the associated class.\n",
        "\n",
        "\n",
        "For `Sparse Categorical Cross Entropy`, the labels with the designation of the starting class must be available."
      ]
    },
    {
      "cell_type": "code",
      "metadata": {
        "id": "XK5EupCgf1uP",
        "colab": {
          "base_uri": "https://localhost:8080/"
        },
        "outputId": "69dc3543-559f-40c6-d25d-02525160d835"
      },
      "source": [
        "_test_labels = keras.utils.to_categorical(test_labels, 10)\n",
        "\n",
        "print('Test labels categorical:')\n",
        "print(_test_labels[:2])\n",
        "print('Use of the categorical_crossentropy required')\n",
        "print('\\n')\n",
        "print('Test labels non categorical:')\n",
        "print(test_labels[:2])\n",
        "print('Use of the sparse_categorical_crossentropy required')"
      ],
      "execution_count": 11,
      "outputs": [
        {
          "output_type": "stream",
          "text": [
            "Test labels categorical:\n",
            "[[0. 0. 0. 0. 0. 0. 0. 1. 0. 0.]\n",
            " [0. 0. 1. 0. 0. 0. 0. 0. 0. 0.]]\n",
            "Use of the categorical_crossentropy required\n",
            "\n",
            "\n",
            "Test labels non categorical:\n",
            "[7 2]\n",
            "Use of the sparse_categorical_crossentropy required\n"
          ],
          "name": "stdout"
        }
      ]
    },
    {
      "cell_type": "markdown",
      "metadata": {
        "id": "rg6Ct_aINTfB"
      },
      "source": [
        "Conversion into categorical values:"
      ]
    },
    {
      "cell_type": "code",
      "metadata": {
        "id": "TCkmlbg2GMSw"
      },
      "source": [
        "_test_labels = keras.utils.to_categorical(train_labels, 10)"
      ],
      "execution_count": 12,
      "outputs": []
    }
  ]
}